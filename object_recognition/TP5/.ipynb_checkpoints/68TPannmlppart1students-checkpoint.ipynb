{
 "cells": [
  {
   "cell_type": "markdown",
   "metadata": {},
   "source": [
    "# IMA-205 \n",
    "## TP 1 (part A) 2018/03/27\n",
    "## Coding a Multi-Layer Perceptron in python (for a binary classification problem)\n",
    "\n",
    "*TP adapted from the IA-306 course, originally written by Geoffroy Peeters\n",
    "\n",
    "### Objective:\n",
    "We want to implement a two layers MLP (1 hidden layer) in Python.\n",
    "\n",
    "#### Forward propagation\n",
    "\n",
    "- $Z^{[1]} = W^{[1]} X + b^{[1]}$\n",
    "- $A^{[1]} = f(Z^{[1]})$\n",
    "- $Z^{[2]} = W^{[2]} A^{[1]} + b^{[2]}$\n",
    "- $A^{[2]} = \\sigma^{[2]}(Z^{[2]})$\n",
    "\n",
    "where \n",
    "- $f$ is a ```Relu``` function (the code is provided)\n",
    "- $\\sigma$ is a sigmoid function (the code is provided)\n",
    "\n",
    "#### Compute the cost \n",
    "\n",
    "The cost is average of the the loss over the training data. Since we are dealing with a binary classification problem, we will use the binary cross-entropy :\n",
    "\n",
    "$\\mathcal{L} = - \\hat{y} \\log(y) - (1-\\hat{y}) \\log(1-y) $\n",
    "\n",
    "where $\\hat{y}$ is the label (ground truth) and $y$ is the prediction.\n",
    "\n",
    "#### Backward propagation\n",
    "\n",
    "The backward propagation can be calculated as\n",
    "\n",
    "- $dZ^{[2]} = A^{[2]} - \\hat{Y}$\n",
    "- $dW^{[2]} = \\frac{1}{m} dZ^{[2]} {A^{[1]}}^{T}$\n",
    "- $db^{[2]} = \\frac{1}{m} \\sum_{i=1}^{m} dZ^{[2]}$\n",
    "- $dA^{[1]} = {W^{[2]}}^{T} dZ^{[2]}$\n",
    "- $dZ^{[1]} = dA^{[1]} \\: \\odot \\: f' (Z^{[1]})$\n",
    "- $dW^{[1]} = \\frac{1}{m} dZ^{[1]} {X}^{T}$\n",
    "- $b^{[1]} = \\frac{1}{m} \\sum_{i=1}^{m} dZ^{[1]}$\n",
    "\n",
    "Write the corresponding backward propagation algorithm.\n",
    "\n",
    "#### Parameters update\n",
    "\n",
    "- Implement a simple gradient descent:\n",
    "- $W = W - \\alpha dW$\n",
    "\n",
    "\n",
    "#### IMPORTANT IMPLEMENTATION INFORMATION !\n",
    "\n",
    "We recall that the $\\odot$ operator refers to the point-wise multiplication operation. You can check the correct sizes of the different matrices by looking at the course slides. Note that we need $f'$, the derivative of the ReLU function, in order to calculate $dZ^{(1)}$. You will need to specify this in the ```F_dRelu``` function below. Finally, note that the matrix multiplication operation can be carried out in Python using ```np.dot(.,.)``` function.\n",
    "\n",
    "\n",
    "### Your task:\n",
    "\n",
    "You need to add the missing parts in the code (parts between ```# --- START CODE HERE``` and ```# --- END CODE HERE```)\n",
    "\n",
    "### Note \n",
    "\n",
    "The code is written using python classes (in order to be able to pass all the variables easely from one function to the other).\n",
    "\n",
    "To use a given variable, you need to use ```self.$VARIABLE_NAME```, such as````self.W1````,```self.b1```, ... (see the code already written).\n",
    "\n",
    "### Testing\n",
    "\n",
    "For testing your code, you can use the code provided in the last cells (loop over epochs and display of the loss decrease).\n",
    "You should obtain a cost which decreases over epochs."
   ]
  },
  {
   "cell_type": "markdown",
   "metadata": {},
   "source": [
    "# 1. Load packages"
   ]
  },
  {
   "cell_type": "code",
   "execution_count": 1,
   "metadata": {},
   "outputs": [],
   "source": [
    "%matplotlib inline\n",
    "import numpy as np\n",
    "from sklearn import datasets\n",
    "from sklearn import model_selection\n",
    "import matplotlib.pyplot as plt \n",
    "import pdb"
   ]
  },
  {
   "cell_type": "markdown",
   "metadata": {},
   "source": [
    "# 2. Define a set of functions"
   ]
  },
  {
   "cell_type": "code",
   "execution_count": 2,
   "metadata": {},
   "outputs": [],
   "source": [
    "def F_standardize(X):\n",
    "    \"\"\"\n",
    "    standardize X, i.e. subtract mean (over data) and divide by standard-deviation (over data)\n",
    "    \n",
    "    Parameters\n",
    "    ----------\n",
    "    X: np.array of size (nbData, nbDim)\n",
    "        matrix containing the observation data\n",
    "    \n",
    "    Returns\n",
    "    -------\n",
    "    X: np.array of size (nbData, nbDim)\n",
    "        standardize version of X\n",
    "    \"\"\"\n",
    "    \n",
    "    X -= np.mean(X, axis=0, keepdims=True) \n",
    "    X /= (np.std(X, axis=0, keepdims=True) + 1e-16)\n",
    "    return X"
   ]
  },
  {
   "cell_type": "code",
   "execution_count": 7,
   "metadata": {},
   "outputs": [],
   "source": [
    "def F_sigmoid(x):\n",
    "    \"\"\"Compute the value of the sigmoid activation function\"\"\"\n",
    "    return 1 / (1 + np.exp(-x))\n",
    "\n",
    "def F_relu(x):\n",
    "    \"\"\"Compute the value of the Rectified Linear Unit activation function\"\"\"\n",
    "    return x * (x > 0)\n",
    "\n",
    "def F_dRelu(x):\n",
    "    \"\"\"Compute the derivative of the Rectified Linear Unit activation function\"\"\"\n",
    "    x[x<=0] = 0\n",
    "    x[x>0] = 1\n",
    "    return x\n",
    "\n",
    "def F_computeCost(y,hat_y):\n",
    "    \"\"\"Compute the cost (sum of the losses)\n",
    "    \n",
    "    Parameters\n",
    "    ----------\n",
    "    y: (1, nbData)\n",
    "        predicted value by the MLP\n",
    "    hat_y: (1, nbData)\n",
    "        ground-truth class to predict\n",
    "    \"\"\"\n",
    "    m = y.shape[1]\n",
    "     \n",
    "    # --- START CODE HERE\n",
    "    loss = -hat_y*np.log(y) - (1-hat_y)*np.log(1-y)\n",
    "    # --- END CODE HERE\n",
    "    \n",
    "    cost = np.sum(loss) / m\n",
    "    return cost\n",
    "\n",
    "def F_computeAccuracy(y,hat_y):\n",
    "    \"\"\"Compute the accuracy\n",
    "    \n",
    "    Parameters\n",
    "    ----------\n",
    "    y: (1, nbData)\n",
    "        predicted value by the MLP\n",
    "    hat_y: (1, nbData)\n",
    "        ground-truth class to predict\n",
    "    \"\"\"\n",
    "    \n",
    "    m = hat_y.shape[1]    \n",
    "    class_y = np.copy(y)\n",
    "    class_y[class_y>=0.5]=1\n",
    "    class_y[class_y<0.5]=0\n",
    "    return np.sum(class_y==hat_y) / m"
   ]
  },
  {
   "cell_type": "markdown",
   "metadata": {},
   "source": [
    "# 3. Load dataset and pre-process it"
   ]
  },
  {
   "cell_type": "code",
   "execution_count": 10,
   "metadata": {},
   "outputs": [
    {
     "name": "stdout",
     "output_type": "stream",
     "text": [
      "X.shape: (1000, 2)\n",
      "y.shape: (1000,)\n",
      "{0, 1}\n",
      "X_train.shape: (2, 800)\n",
      "X_test.shape: (2, 200)\n",
      "hat_y_train.shape: (1, 800)\n",
      "hat_y_test.shape: (1, 200)\n",
      "n_in: 2 n_out: 1\n"
     ]
    }
   ],
   "source": [
    "X, y = datasets.make_circles(n_samples=1000, noise=0.05, factor=0.5)\n",
    "\n",
    "print(\"X.shape: {}\".format(X.shape))\n",
    "print(\"y.shape: {}\".format(y.shape))\n",
    "print(set(y))\n",
    "\n",
    "# X is (nbExamples, nbDim)\n",
    "# y is (nbExamples,)\n",
    "\n",
    "# --- Standardize data\n",
    "X = F_standardize(X)\n",
    "\n",
    "# --- Split between training set and test set\n",
    "X_train, X_test, hat_y_train, hat_y_test = model_selection.train_test_split(X, y, test_size=0.2)\n",
    "\n",
    "# --- Convert to proper shape: (nbExamples, nbDim) -> (nbDim, nbExamples)\n",
    "X_train = X_train.T\n",
    "X_test = X_test.T\n",
    "\n",
    "# --- Convert to proper shape: (nbExamples,) -> (1, nbExamples)\n",
    "hat_y_train = hat_y_train.reshape(1, len(hat_y_train))\n",
    "hat_y_test = hat_y_test.reshape(1, len(hat_y_test))\n",
    "\n",
    "n_in = X_train.shape[0]\n",
    "n_out = 1\n",
    "\n",
    "print(\"X_train.shape: {}\".format(X_train.shape))\n",
    "print(\"X_test.shape: {}\".format(X_test.shape))\n",
    "print(\"hat_y_train.shape: {}\".format(hat_y_train.shape))\n",
    "print(\"hat_y_test.shape: {}\".format(hat_y_test.shape))\n",
    "print(\"n_in: {} n_out: {}\".format(n_in, n_out))"
   ]
  },
  {
   "cell_type": "markdown",
   "metadata": {},
   "source": [
    "Now, let's visualise the data we are working on "
   ]
  },
  {
   "cell_type": "code",
   "execution_count": 11,
   "metadata": {},
   "outputs": [
    {
     "data": {
      "text/plain": [
       "<matplotlib.collections.PathCollection at 0x19aeb83ac88>"
      ]
     },
     "execution_count": 11,
     "metadata": {},
     "output_type": "execute_result"
    },
    {
     "data": {
      "image/png": "[encoded data removed]",
      "text/plain": [
       "<Figure size 432x288 with 1 Axes>"
      ]
     },
     "metadata": {
      "needs_background": "light"
     },
     "output_type": "display_data"
    }
   ],
   "source": [
    "# plot data\n",
    "plt.scatter(X_train[0,np.ravel(hat_y_train==0)],X_train[1,np.ravel(hat_y_train==0)],color='r')\n",
    "plt.scatter(X_train[0,np.ravel(hat_y_train==1)],X_train[1,np.ravel(hat_y_train==1)],color='b')"
   ]
  },
  {
   "cell_type": "markdown",
   "metadata": {},
   "source": [
    "# 4. Define the MLP class with forward, backward and update methods"
   ]
  },
  {
   "cell_type": "code",
   "execution_count": 5,
   "metadata": {},
   "outputs": [],
   "source": [
    "class C_MultiLayerPerceptron:\n",
    "    \"\"\"\n",
    "    A class used to represent a Multi-Layer Perceptron with 1 hidden layers\n",
    "\n",
    "    ...\n",
    "\n",
    "    Attributes\n",
    "    ----------\n",
    "    W1, b1, W2, b2:\n",
    "        weights and biases to be learnt\n",
    "    Z1, A1, Z2, A2:\n",
    "        values of the internal neurons to be used for backpropagation\n",
    "    dW1, db1, dW2, db2, dZ1, dZ2:\n",
    "        partial derivatives of the loss w.r.t. parameters\n",
    "        \n",
    "    Methods\n",
    "    -------\n",
    "    forward_propagation\n",
    "    \n",
    "    backward_propagation\n",
    "    \n",
    "    update_parameters\n",
    "    \n",
    "    \"\"\"\n",
    "\n",
    "    W1, b1, W2, b2 = [], [], [], []\n",
    "    Z1, A1, Z2, A2 = [], [], [], []\n",
    "    dW1, db1, dW2, db2 = [], [], [], []   \n",
    "    dZ1, dA1, dZ2 = [], [], []\n",
    "    \n",
    "    def __init__(self, n_in, n_h, n_out):\n",
    "        #initialise weight and biases parameters\n",
    "        self.W1 = np.random.randn(n_h, n_in) * 0.01\n",
    "        self.b1 = np.zeros(shape = (n_h, 1))\n",
    "        self.W2 = np.random.randn(n_out, n_h) * 0.01\n",
    "        self.b2 = np.zeros(shape = (n_out, 1))\n",
    "        return\n",
    "\n",
    "    \n",
    "    def __setattr__(self, attrName, val):\n",
    "        if hasattr(self, attrName):\n",
    "            self.__dict__[attrName] = val\n",
    "        else:\n",
    "            raise Exception(\"self.%s note part of the fields\" % attrName)\n",
    "\n",
    "            \n",
    "\n",
    "    def M_forwardPropagation(self, X):\n",
    "        \"\"\"Forward propagation in the MLP\n",
    "\n",
    "        Parameters\n",
    "        ----------\n",
    "        X: numpy array (nbDim, nbData)\n",
    "            observation data\n",
    "\n",
    "        Return\n",
    "        ------\n",
    "        y: numpy array (1, nbData)\n",
    "            predicted value by the MLP\n",
    "        \"\"\"\n",
    "        \n",
    "        # --- START CODE HERE \n",
    "        self.Z1 = self.W1@X + self.b1\n",
    "        self.A1 = F_relu(self.Z1)\n",
    "        self.Z2 = self.W2@self.A1 + self.b2\n",
    "        self.A2 = F_sigmoid(self.Z2)\n",
    "        # --- END CODE HERE\n",
    "        \n",
    "        y = self.A2\n",
    "        \n",
    "        return y\n",
    "\n",
    "\n",
    "    def M_backwardPropagation(self, X, hat_y):\n",
    "        \"\"\"Backward propagation in the MLP\n",
    "\n",
    "        Parameters\n",
    "        ----------\n",
    "        X: numpy array (nbDim, nbData)\n",
    "            observation data\n",
    "        hat_y: numpy array (1, nbData)\n",
    "            ground-truth class to predict\n",
    "            \n",
    "        \"\"\"\n",
    "        \n",
    "        m = hat_y.shape[1]  #batch size\n",
    "        \n",
    "        # --- START CODE HERE\n",
    "        self.dZ2 = self.A2 - hat_y       \n",
    "        self.dW2 = self.dZ2@self.A1.T / m\n",
    "        self.db2 = np.sum(self.dZ2, keepdims=True) / m\n",
    "        self.dA1 = self.W2.T@self.dZ2\n",
    "        self.dZ1 = self.dA1*F_dRelu(self.Z1)\n",
    "        self.dW1 = self.dZ1@X.T / m\n",
    "        self.db1 = np.sum(self.dZ1, keepdims=True) / m\n",
    "        # --- END CODE HERE\n",
    "        return\n",
    "\n",
    "    \n",
    "    def M_gradientDescent(self, alpha):\n",
    "        \"\"\"Update the parameters of the network using gradient descent\n",
    "\n",
    "        Parameters\n",
    "        ----------\n",
    "        alpha: float scalar\n",
    "            amount of update at each step of the gradient descent\n",
    "            \n",
    "        \"\"\"\n",
    "\n",
    "        # --- START CODE HERE\n",
    "        self.W1 = self.W1 - alpha*self.dW1\n",
    "        self.b1 = self.b1 - alpha*self.db1\n",
    "        self.W2 = self.W2 - alpha*self.dW2\n",
    "        self.b2 = self.b2 - alpha*self.db2\n",
    "        # --- END CODE HERE\n",
    "        \n",
    "        return\n"
   ]
  },
  {
   "cell_type": "markdown",
   "metadata": {},
   "source": [
    "# 5. Perform training using batch-gradiant and epochs"
   ]
  },
  {
   "cell_type": "code",
   "execution_count": 12,
   "metadata": {},
   "outputs": [
    {
     "name": "stdout",
     "output_type": "stream",
     "text": [
      "epoch: 0 (cost: train 0.69 test 0.69) (accuracy: train 0.50 test 0.47)\n",
      "epoch: 100 (cost: train 0.69 test 0.69) (accuracy: train 0.51 test 0.47)\n",
      "epoch: 200 (cost: train 0.69 test 0.69) (accuracy: train 0.51 test 0.47)\n",
      "epoch: 300 (cost: train 0.69 test 0.69) (accuracy: train 0.68 test 0.61)\n",
      "epoch: 400 (cost: train 0.67 test 0.68) (accuracy: train 0.69 test 0.65)\n",
      "epoch: 500 (cost: train 0.63 test 0.64) (accuracy: train 0.78 test 0.72)\n",
      "epoch: 600 (cost: train 0.55 test 0.57) (accuracy: train 0.92 test 0.88)\n",
      "epoch: 700 (cost: train 0.43 test 0.45) (accuracy: train 0.98 test 0.98)\n",
      "epoch: 800 (cost: train 0.32 test 0.33) (accuracy: train 1.00 test 0.99)\n",
      "epoch: 900 (cost: train 0.23 test 0.25) (accuracy: train 1.00 test 1.00)\n",
      "epoch: 1000 (cost: train 0.17 test 0.19) (accuracy: train 1.00 test 1.00)\n",
      "epoch: 1100 (cost: train 0.13 test 0.14) (accuracy: train 1.00 test 1.00)\n",
      "epoch: 1200 (cost: train 0.10 test 0.11) (accuracy: train 1.00 test 1.00)\n",
      "epoch: 1300 (cost: train 0.08 test 0.09) (accuracy: train 1.00 test 1.00)\n",
      "epoch: 1400 (cost: train 0.07 test 0.07) (accuracy: train 1.00 test 1.00)\n",
      "epoch: 1500 (cost: train 0.06 test 0.06) (accuracy: train 1.00 test 1.00)\n",
      "epoch: 1600 (cost: train 0.05 test 0.05) (accuracy: train 1.00 test 1.00)\n",
      "epoch: 1700 (cost: train 0.04 test 0.05) (accuracy: train 1.00 test 1.00)\n",
      "epoch: 1800 (cost: train 0.04 test 0.04) (accuracy: train 1.00 test 1.00)\n",
      "epoch: 1900 (cost: train 0.03 test 0.04) (accuracy: train 1.00 test 1.00)\n",
      "epoch: 2000 (cost: train 0.03 test 0.03) (accuracy: train 1.00 test 1.00)\n",
      "epoch: 2100 (cost: train 0.03 test 0.03) (accuracy: train 1.00 test 1.00)\n",
      "epoch: 2200 (cost: train 0.03 test 0.03) (accuracy: train 1.00 test 1.00)\n",
      "epoch: 2300 (cost: train 0.02 test 0.02) (accuracy: train 1.00 test 1.00)\n",
      "epoch: 2400 (cost: train 0.02 test 0.02) (accuracy: train 1.00 test 1.00)\n",
      "epoch: 2500 (cost: train 0.02 test 0.02) (accuracy: train 1.00 test 1.00)\n",
      "epoch: 2600 (cost: train 0.02 test 0.02) (accuracy: train 1.00 test 1.00)\n",
      "epoch: 2700 (cost: train 0.02 test 0.02) (accuracy: train 1.00 test 1.00)\n",
      "epoch: 2800 (cost: train 0.02 test 0.02) (accuracy: train 1.00 test 1.00)\n",
      "epoch: 2900 (cost: train 0.02 test 0.02) (accuracy: train 1.00 test 1.00)\n",
      "epoch: 3000 (cost: train 0.02 test 0.02) (accuracy: train 1.00 test 1.00)\n",
      "epoch: 3100 (cost: train 0.01 test 0.01) (accuracy: train 1.00 test 1.00)\n",
      "epoch: 3200 (cost: train 0.01 test 0.01) (accuracy: train 1.00 test 1.00)\n",
      "epoch: 3300 (cost: train 0.01 test 0.01) (accuracy: train 1.00 test 1.00)\n",
      "epoch: 3400 (cost: train 0.01 test 0.01) (accuracy: train 1.00 test 1.00)\n",
      "epoch: 3500 (cost: train 0.01 test 0.01) (accuracy: train 1.00 test 1.00)\n",
      "epoch: 3600 (cost: train 0.01 test 0.01) (accuracy: train 1.00 test 1.00)\n",
      "epoch: 3700 (cost: train 0.01 test 0.01) (accuracy: train 1.00 test 1.00)\n",
      "epoch: 3800 (cost: train 0.01 test 0.01) (accuracy: train 1.00 test 1.00)\n",
      "epoch: 3900 (cost: train 0.01 test 0.01) (accuracy: train 1.00 test 1.00)\n",
      "epoch: 4000 (cost: train 0.01 test 0.01) (accuracy: train 1.00 test 1.00)\n",
      "epoch: 4100 (cost: train 0.01 test 0.01) (accuracy: train 1.00 test 1.00)\n",
      "epoch: 4200 (cost: train 0.01 test 0.01) (accuracy: train 1.00 test 1.00)\n",
      "epoch: 4300 (cost: train 0.01 test 0.01) (accuracy: train 1.00 test 1.00)\n",
      "epoch: 4400 (cost: train 0.01 test 0.01) (accuracy: train 1.00 test 1.00)\n",
      "epoch: 4500 (cost: train 0.01 test 0.01) (accuracy: train 1.00 test 1.00)\n",
      "epoch: 4600 (cost: train 0.01 test 0.01) (accuracy: train 1.00 test 1.00)\n",
      "epoch: 4700 (cost: train 0.01 test 0.01) (accuracy: train 1.00 test 1.00)\n",
      "epoch: 4800 (cost: train 0.01 test 0.01) (accuracy: train 1.00 test 1.00)\n",
      "epoch: 4900 (cost: train 0.01 test 0.01) (accuracy: train 1.00 test 1.00)\n"
     ]
    }
   ],
   "source": [
    "# Instantiate the class MLP with providing \n",
    "# the size of the various layers (input=4, hidden=10, outout=1) \n",
    "\n",
    "n_hidden = 10\n",
    "num_epoch = 5000\n",
    "\n",
    "\n",
    "myMLP = C_MultiLayerPerceptron(n_in, n_hidden, n_out)\n",
    "\n",
    "train_cost, train_accuracy, test_cost, test_accuracy = [], [], [], []\n",
    "\n",
    "# Run over epochs\n",
    "for i in range(0, num_epoch):\n",
    "    \n",
    "    # --- Forward\n",
    "    y_predict_train = myMLP.M_forwardPropagation(X_train)\n",
    "    \n",
    "    # --- Store results on train\n",
    "    train_cost.append( F_computeCost(y_predict_train, hat_y_train) )\n",
    "    train_accuracy.append( F_computeAccuracy(y_predict_train, hat_y_train) )\n",
    "    \n",
    "    # --- Backward\n",
    "    myMLP.M_backwardPropagation(X_train, hat_y_train)\n",
    "    \n",
    "    # --- Update\n",
    "    myMLP.M_gradientDescent(alpha=0.1)\n",
    "\n",
    "    # --- Store results on test\n",
    "    y_predict_test = myMLP.M_forwardPropagation(X_test)\n",
    "    test_cost.append( F_computeCost(y_predict_test, hat_y_test) )    \n",
    "    test_accuracy.append( F_computeAccuracy(y_predict_test, hat_y_test) )\n",
    "    \n",
    "    if (i % 100)==0: \n",
    "        print(\"epoch: {0:d} (cost: train {1:.2f} test {2:.2f}) (accuracy: train {3:.2f} test {4:.2f})\".format(i, train_cost[-1], test_cost[-1], train_accuracy[-1], test_accuracy[-1]))"
   ]
  },
  {
   "cell_type": "markdown",
   "metadata": {},
   "source": [
    "## Display train/test loss and accuracy"
   ]
  },
  {
   "cell_type": "code",
   "execution_count": 13,
   "metadata": {},
   "outputs": [
    {
     "data": {
      "image/png": "[encoded data removed]",
      "text/plain": [
       "<Figure size 432x288 with 2 Axes>"
      ]
     },
     "metadata": {
      "needs_background": "light"
     },
     "output_type": "display_data"
    }
   ],
   "source": [
    "plt.subplot(1,2,1)\n",
    "plt.plot(train_cost, 'r')\n",
    "plt.plot(test_cost, 'g--')\n",
    "plt.xlabel('# epoch')\n",
    "plt.ylabel('loss')\n",
    "plt.grid(True)\n",
    "plt.subplot(1,2,2)\n",
    "plt.plot(train_accuracy, 'r')#hat_\n",
    "plt.plot(test_accuracy, 'g--')\n",
    "plt.xlabel('# epoch')\n",
    "plt.ylabel('accuracy')\n",
    "plt.grid(True)"
   ]
  },
  {
   "cell_type": "code",
   "execution_count": 21,
   "metadata": {},
   "outputs": [],
   "source": [
    "train_accuracy"
   ]
  },
  {
   "cell_type": "code",
   "execution_count": null,
   "metadata": {},
   "outputs": [],
   "source": [
    "test_accuracy"
   ]
  }
 ],
 "metadata": {
  "kernelspec": {
   "display_name": "Python 3",
   "language": "python",
   "name": "python3"
  },
  "language_info": {
   "codemirror_mode": {
    "name": "ipython",
    "version": 3
   },
   "file_extension": ".py",
   "mimetype": "text/x-python",
   "name": "python",
   "nbconvert_exporter": "python",
   "pygments_lexer": "ipython3",
   "version": "3.7.0"
  }
 },
 "nbformat": 4,
 "nbformat_minor": 2
}
