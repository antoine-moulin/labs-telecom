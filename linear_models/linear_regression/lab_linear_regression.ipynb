{
 "cells": [
  {
   "cell_type": "markdown",
   "metadata": {},
   "source": [
    "<h1><center> Linear regression model</center></h1>"
   ]
  },
  {
   "cell_type": "code",
   "execution_count": 1,
   "metadata": {},
   "outputs": [],
   "source": [
    "### IMPORTS ###\n",
    "\n",
    "import pandas as pd\n",
    "import numpy as np\n",
    "from scipy import stats\n",
    "from sklearn.linear_model import LinearRegression\n",
    "from IPython.display import display, Markdown\n",
    "\n",
    "import matplotlib.pyplot as plt\n",
    "plt.style.use('ggplot')\n",
    "from mpl_toolkits.mplot3d import Axes3D"
   ]
  },
  {
   "cell_type": "markdown",
   "metadata": {},
   "source": [
    "<h2> A bit of theory </h2>"
   ]
  },
  {
   "cell_type": "markdown",
   "metadata": {},
   "source": [
    "<h3> The model </h3>\n",
    "\n",
    "Given some observations $\\left( x_{i} \\right)_{i \\in [\\![ 1, n ]\\!]}$ and some output variables $\\left( Y_{i} \\right)_{i \\in [\\![ 1, n ]\\!]}$, we consider in a first part the fixed-design one-dimensional ($\\left( x_{i} \\right) \\subset \\mathbb{R}^{p}$ with $p = 1$) linear regression model : $$Y_{i} = \\beta_{0} + \\beta_{1} x_{i} + \\epsilon_{i} \\,\\, s.t. \\,\\, \\forall i \\in [\\![ 1, n ]\\!], \\epsilon_{i} \\overset{i.i.d.}{\\sim} \\mathcal{N} \\left( 0, \\sigma \\right)$$\n",
    "\n",
    "It is a simple case but is facilitates intuitive understanding and enables easy two-dimensional visualization. \n",
    "\n",
    "Later, we regard a higher-dimensional case, i.e. the general linear regression model (with obvious notation): $$Y_{i} = \\beta_{0} + \\beta_{1}x_{i, 1} + ... + \\beta_{p}x_{i, p} + \\epsilon_{i} \\,\\, s.t. \\,\\, \\forall i \\in [\\![ 1, n ]\\!], \\epsilon_{i} \\overset{i.i.d.}{\\sim} \\mathcal{N} \\left( 0, \\sigma \\right)$$"
   ]
  },
  {
   "cell_type": "markdown",
   "metadata": {},
   "source": [
    "<h3> The one-dimensional case </h3> \n",
    "\n",
    "In the one-dimensional case, $ML$ estimators for $\\widehat{\\beta}_{0}$ and $\\widehat{\\beta}_{1}$ are given by: \n",
    "\n",
    "$$\\widehat{\\beta}_{0} = \\overline{Y} - \\widehat{\\beta}_{1} \\overline{x} \n",
    "\\,\\,\\,\\, and \\,\\,\\,\\, \n",
    "\\widehat{\\beta}_{1} = \\frac{\\displaystyle\\sum_{i = 1}^{n} \\left(x_{i} - \\overline{x} \\right) \\left( Y_{i} - \\overline{Y} \\right)}{\\displaystyle\\sum_{i = 1}^{n} \\left( x_{i} - \\overline{x} \\right)^{2}}$$\n",
    "\n",
    "\n",
    "with their respective variances being: \n",
    "\n",
    "$$Var \\left( \\widehat{\\beta}_{0} \\right) = \\widehat{\\sigma}^{2} \\left( \\frac{1}{n} + \\frac{\\overline{x}^{2}}{\\displaystyle\\sum_{i = 1}^{n} \\left( x_{i} - \\overline{x} \\right)^{2}} \\right) \n",
    "\\,\\,\\,\\, and \\,\\,\\,\\, \n",
    "Var \\left( \\widehat{\\beta}_{1} \\right) = \\frac{\\widehat{\\sigma}^{2}}{\\displaystyle\\sum_{i = 1}^{n} \\left( x_{i} - \\overline{x} \\right)^{2}} $$\n",
    "\n",
    "\n",
    "where $\\widehat{\\sigma}^{2}$ is the unbiased estimator for $\\sigma^{2}$: \n",
    "\n",
    "$$\\widehat{\\sigma}^{2} = \\frac{1}{n - 2} \\sum_{i = 1}^{n} \\left( Y_{i} - \\left( \\widehat{\\beta}_{0} + \\widehat{\\beta}_{1} x_{i} \\right) \\right)^{2}$$\n",
    "\n",
    "\n",
    "Besides, we know that \n",
    "\n",
    "$$\\frac{ \\left( \\widehat{\\beta}_{0} + \\widehat{\\beta}_{1}x \\right) - \\left( \\beta_{0} + \\beta_{1}x \\right) }{ \\widehat{\\sigma} \\sqrt{\\frac{1}{n} + \\frac{ \\left( x - \\overline{x} \\right)^{2} }{ \\sum_{i = 1}^{n} \\left( x_{i} - \\overline{x} \\right)^{2} }} } \\sim t(n - 2)\n",
    "\\,\\,\\, and \\,\\,\\, \n",
    "\\frac{ Y - \\left( \\widehat{\\beta}_{0} + \\widehat{\\beta}_{1}x \\right) }{ \\widehat{\\sigma} \\sqrt{1 + \\frac{1}{n} + \\frac{ \\left( x - \\overline{x} \\right)^{2} }{ \\sum_{i = 1}^{n} \\left( x_{i} - \\overline{x} \\right)^{2} }} } \\sim t(n - 2) $$\n",
    "\n",
    "\n",
    "This allows for construction of confidence and prediction intervals (at the level $\\alpha$):\n",
    "\n",
    "$$CI(x) = \\widehat{\\beta}_{0} + \\widehat{\\beta}_{1}x \\, \\pm \\, t_{1 - \\frac{\\alpha}{2}}^{(n - 2)} \\widehat{\\sigma} \\sqrt{ \\frac{1}{n} + \\frac{ \\left( x - \\overline{x} \\right)^{2} }{ \\sum_{i = 1}^{n} \\left( x_{i} - \\overline{x} \\right)^{2} }}$$\n",
    "\n",
    "$$PI(x) = \\widehat{\\beta}_{0} + \\widehat{\\beta}_{1}x \\, \\pm \\, t_{1 - \\frac{\\alpha}{2}}^{(n - 2)} \\widehat{\\sigma} \\sqrt{ 1 + \\frac{1}{n} + \\frac{ \\left( x - \\overline{x} \\right)^{2} }{ \\sum_{i = 1}^{n} \\left( x_{i} - \\overline{x} \\right)^{2} }}$$"
   ]
  },
  {
   "cell_type": "markdown",
   "metadata": {},
   "source": [
    "<h3> The general case </h3>\n",
    "\n",
    "In a higher dimensional case, we generalize those of the above mentioned material:\n",
    "\n",
    "$$\\widehat{\\sigma}^{2} = \\frac{1}{n - \\left( p + 1 \\right)} \\sum_{i = 1}^{n} \\left( Y_{i} - \\left( \\widehat{\\beta}_{0} + \\widehat{\\beta}_{1} x_{i, 1} + \\dots + \\widehat{\\beta}_{p} x_{i, p} \\right) \\right)^{2}$$\n",
    "\n",
    "Further, one can show that for any $j \\in [\\![ 0, p ]\\!]$, it holds\n",
    "\n",
    "$$\\frac{ \\widehat{\\beta}_{j} - \\beta_{j} }{ \\sqrt{Var \\left( \\widehat{\\beta}_{j} \\right)} } \\sim t \\left( n - \\left( p + 1 \\right) \\right)$$\n",
    "\n",
    "This allows to construct a Student-t test with the null hypothesis being $\\mathcal{H}_{0} : \\beta_{j} = 0$ in which one should reject $\\mathcal{H}_{0}$ at the level $\\alpha$ if:\n",
    "\n",
    "$$\\frac{ \\widehat{\\beta}_{j} }{ \\sqrt{Var \\left( \\widehat{\\beta}_{j} \\right)} } \\notin \\left[ - t_{1 - \\frac{\\alpha}{2}}^{\\left( n - \\left( p + 1 \\right) \\right)}, t_{1 - \\frac{\\alpha}{2}}^{\\left( n - \\left( p + 1 \\right) \\right)} \\right]$$\n",
    "\n",
    "where $t_{1 - \\frac{\\alpha}{2}}^{\\left( n - \\left( p + 1 \\right) \\right)}$ is the quantile of the Student-t distribution with $\\left( n - \\left( p + 1 \\right) \\right)$ degrees of freedom at the level $1 - \\frac{\\alpha}{2}$. For a statistical test, the $p$-value is the probability that, under $\\mathcal{H}_{0}$, the test statistic takes the value at least as extreme as its observed value.\n",
    "\n",
    "Denote the design matrix $X = \\left( x_{1}, \\dots, x_{n} \\right)^{T}$ with, for all $i \\in [\\![ 1, n ]\\!]$, $x_{i} = \\left( 1, x_{i, 1}, \\dots, x_{i, p} \\right)^{T}$ and let $C = \\widehat{\\sigma}^{2} \\left( X^{T}X \\right)^{-1}$. Then, one can show that\n",
    "\n",
    "$$Var \\left( \\widehat{\\beta}_{j} \\right) = C_{jj}$$\n",
    "$$CI(x_{\\cdot}) = \\widehat{\\beta}_{0} + \\widehat{\\beta}_{1} x_{\\cdot, 1} + \\dots + \\widehat{\\beta}_{p} x_{\\cdot, p} \\, \\pm \\, t_{1 - \\frac{\\alpha}{2}}^{\\left( n - \\left( p + 1 \\right) \\right)} \\sqrt{ \\widehat{\\sigma}^{2} x_{\\cdot}^{T} \\left( X^{T}X \\right)^{-1} x_{\\cdot} }$$\n",
    "$$PI(x_{\\cdot}) = \\widehat{\\beta}_{0} + \\widehat{\\beta}_{1} x_{\\cdot, 1} + \\dots + \\widehat{\\beta}_{p} x_{\\cdot, p} \\, \\pm \\, t_{1 - \\frac{\\alpha}{2}}^{\\left( n - \\left( p + 1 \\right) \\right)} \\sqrt{ \\widehat{\\sigma}^{2} \\left( 1 + x_{\\cdot}^{T} \\left( X^{T}X \\right)^{-1} x_{\\cdot} \\right) }$$"
   ]
  },
  {
   "cell_type": "markdown",
   "metadata": {},
   "source": [
    "<h2> Regression analysis of the investment data </h2>"
   ]
  },
  {
   "cell_type": "markdown",
   "metadata": {},
   "source": [
    "Let import the data from the file <tt>invest.txt</tt> and print them in a readable form, e.g. a table containing first $5$ observations."
   ]
  },
  {
   "cell_type": "code",
   "execution_count": 2,
   "metadata": {},
   "outputs": [
    {
     "data": {
      "text/html": [
       "<div>\n",
       "<style scoped>\n",
       "    .dataframe tbody tr th:only-of-type {\n",
       "        vertical-align: middle;\n",
       "    }\n",
       "\n",
       "    .dataframe tbody tr th {\n",
       "        vertical-align: top;\n",
       "    }\n",
       "\n",
       "    .dataframe thead th {\n",
       "        text-align: right;\n",
       "    }\n",
       "</style>\n",
       "<table border=\"1\" class=\"dataframe\">\n",
       "  <thead>\n",
       "    <tr style=\"text-align: right;\">\n",
       "      <th></th>\n",
       "      <th>year</th>\n",
       "      <th>gnp</th>\n",
       "      <th>invest</th>\n",
       "      <th>cpi</th>\n",
       "      <th>interest</th>\n",
       "    </tr>\n",
       "  </thead>\n",
       "  <tbody>\n",
       "    <tr>\n",
       "      <th>0</th>\n",
       "      <td>1968</td>\n",
       "      <td>873.4</td>\n",
       "      <td>133.3</td>\n",
       "      <td>82.54</td>\n",
       "      <td>5.16</td>\n",
       "    </tr>\n",
       "    <tr>\n",
       "      <th>1</th>\n",
       "      <td>1969</td>\n",
       "      <td>944.0</td>\n",
       "      <td>149.3</td>\n",
       "      <td>86.79</td>\n",
       "      <td>5.87</td>\n",
       "    </tr>\n",
       "    <tr>\n",
       "      <th>2</th>\n",
       "      <td>1970</td>\n",
       "      <td>992.7</td>\n",
       "      <td>144.2</td>\n",
       "      <td>91.45</td>\n",
       "      <td>5.95</td>\n",
       "    </tr>\n",
       "    <tr>\n",
       "      <th>3</th>\n",
       "      <td>1971</td>\n",
       "      <td>1077.6</td>\n",
       "      <td>166.4</td>\n",
       "      <td>96.01</td>\n",
       "      <td>4.88</td>\n",
       "    </tr>\n",
       "    <tr>\n",
       "      <th>4</th>\n",
       "      <td>1972</td>\n",
       "      <td>1185.9</td>\n",
       "      <td>195.0</td>\n",
       "      <td>100.00</td>\n",
       "      <td>4.50</td>\n",
       "    </tr>\n",
       "  </tbody>\n",
       "</table>\n",
       "</div>"
      ],
      "text/plain": [
       "   year     gnp  invest     cpi  interest\n",
       "0  1968   873.4   133.3   82.54      5.16\n",
       "1  1969   944.0   149.3   86.79      5.87\n",
       "2  1970   992.7   144.2   91.45      5.95\n",
       "3  1971  1077.6   166.4   96.01      4.88\n",
       "4  1972  1185.9   195.0  100.00      4.50"
      ]
     },
     "execution_count": 2,
     "metadata": {},
     "output_type": "execute_result"
    }
   ],
   "source": [
    "df = pd.read_csv('invest.txt', sep = \" \")\n",
    "df.head()"
   ]
  },
  {
   "cell_type": "markdown",
   "metadata": {},
   "source": [
    "Now, let plot the data with Gross National Product (GNP, column <tt>gnp</tt>) being the abscissa and Investment (column <tt>invest</tt>) being the ordinate."
   ]
  },
  {
   "cell_type": "code",
   "execution_count": 3,
   "metadata": {
    "scrolled": true
   },
   "outputs": [
    {
     "data": {
      "text/plain": [
       "<matplotlib.collections.PathCollection at 0x199cad3c7f0>"
      ]
     },
     "execution_count": 3,
     "metadata": {},
     "output_type": "execute_result"
    },
    {
     "data": {
      "image/png": "[encoded data removed]",
      "text/plain": [
       "<Figure size 432x288 with 1 Axes>"
      ]
     },
     "metadata": {
      "needs_background": "light"
     },
     "output_type": "display_data"
    }
   ],
   "source": [
    "# Normal plot\n",
    "\n",
    "abscissa = df['gnp']\n",
    "ordinate = df['invest']\n",
    "\n",
    "plt.xlabel('Gross National Product')\n",
    "plt.ylabel('Investment')\n",
    "plt.scatter(abscissa, ordinate, marker = 'x')"
   ]
  },
  {
   "cell_type": "markdown",
   "metadata": {},
   "source": [
    "<h3> NOTE </h3>\n",
    "\n",
    "When working with monetary data, one often resorts to a logarithm transform to account for inequality of scale. Thus, let transform the two above mentioned columns, GNP and Investment, via logarithm; further we will be working with these columns log-transformed. Besides, all the calculations will be done with elementary arithmetic and not involving existing libraries for running linear regression. We will then compare the results with the ones obtained with libraries such as <tt>scikit-learn</tt>."
   ]
  },
  {
   "cell_type": "code",
   "execution_count": 4,
   "metadata": {},
   "outputs": [],
   "source": [
    "# Logarithm transformation, DO IT ONLY ONCE\n",
    "df['gnp'] = np.log(df['gnp'])\n",
    "df['invest'] = np.log(df['invest'])"
   ]
  },
  {
   "cell_type": "code",
   "execution_count": 5,
   "metadata": {},
   "outputs": [
    {
     "data": {
      "text/plain": [
       "<matplotlib.collections.PathCollection at 0x199cad3c860>"
      ]
     },
     "execution_count": 5,
     "metadata": {},
     "output_type": "execute_result"
    },
    {
     "data": {
      "image/png": "[encoded data removed]",
      "text/plain": [
       "<Figure size 432x288 with 1 Axes>"
      ]
     },
     "metadata": {
      "needs_background": "light"
     },
     "output_type": "display_data"
    }
   ],
   "source": [
    "plt.xlabel('ln(Gross National Product)')\n",
    "plt.ylabel('ln(Investment)')\n",
    "plt.scatter(df['gnp'], df['invest'], marker = 'x')"
   ]
  },
  {
   "cell_type": "markdown",
   "metadata": {},
   "source": [
    "For the linear regression of Investment on GNP, let estimate the intercept and the slope and their standard deviations, as well as the determination coefficient for the ordinary least squares."
   ]
  },
  {
   "cell_type": "code",
   "execution_count": 6,
   "metadata": {},
   "outputs": [
    {
     "name": "stdout",
     "output_type": "stream",
     "text": [
      "Estimation of\n",
      "- the intercept: -1.9635913352301815\n",
      "- the slope: 1.015281401598871\n",
      "- the standard deviation of the intercept: 0.40954727166230853\n",
      "- the standard deviation of the slope: 0.055383060354852874\n",
      "- the determination coefficient: 0.9627572956057855\n",
      "\n"
     ]
    }
   ],
   "source": [
    "# see the theoretical part above for the formulas\n",
    "\n",
    "X = np.array(df['gnp'])\n",
    "y = np.array(df['invest'])\n",
    "n = X.size # number of samples\n",
    "mean_X = np.mean(X)\n",
    "mean_y = np.mean(y)\n",
    "\n",
    "centered_X = X - mean_X\n",
    "centered_y = y - mean_y\n",
    "\n",
    "slope_estimator = sum(centered_X * centered_y) / sum(centered_X ** 2) # beta_1\n",
    "intercept_estimator = mean_y - slope_estimator * mean_X # beta_0\n",
    "\n",
    "beta = np.array([intercept_estimator, slope_estimator])\n",
    "h = np.transpose(np.vstack((np.ones(X.shape), X))) @ beta\n",
    "variance_estimator = (1/(n - 2)) * sum((y - h) ** 2)\n",
    "\n",
    "std_intercept = np.sqrt(variance_estimator * ((1/n) + mean_X**2 / sum(centered_X ** 2)))\n",
    "std_slope = np.sqrt(variance_estimator / sum(centered_X ** 2))\n",
    "\n",
    "determination_coefficient = 1 - sum((y - h) ** 2) / sum(centered_y ** 2)\n",
    "\n",
    "print('Estimation of' + '\\n' +\n",
    "      '- the intercept: ' + str(intercept_estimator) + '\\n' +\n",
    "      '- the slope: ' + str(slope_estimator) + '\\n' +\n",
    "      '- the standard deviation of the intercept: ' + str(std_intercept) + '\\n' +\n",
    "      '- the standard deviation of the slope: ' + str(std_slope) + '\\n' +\n",
    "      '- the determination coefficient: ' + str(determination_coefficient) + '\\n'\n",
    "     )"
   ]
  },
  {
   "cell_type": "markdown",
   "metadata": {},
   "source": [
    "Now, we test the significance of the slope using the Student-$t$ test."
   ]
  },
  {
   "cell_type": "code",
   "execution_count": 7,
   "metadata": {},
   "outputs": [
    {
     "name": "stdout",
     "output_type": "stream",
     "text": [
      "Value of \n",
      "- the test statistic: 18.331984456866657\n",
      "- the p-value: 1.1363709973011282e-10\n",
      "\n",
      "The value of the quantile is: 1.7709333959867988, whereas the test is : 18.331984456866657.\n",
      "This means the test is in the critical region. Then, we can reject the hypothesis H0 (this is confirmed with the p-value).\n"
     ]
    }
   ],
   "source": [
    "test_statistic = slope_estimator / std_slope\n",
    "t_quantile = stats.t.ppf(0.95, n-2) \n",
    "p_value = 2 * (1 - stats.t.cdf(test_statistic, n-2))\n",
    "\n",
    "print('Value of ' + '\\n' +\n",
    "      '- the test statistic: ' + str(test_statistic) + '\\n' +\n",
    "      '- the p-value: ' + str(p_value) + '\\n\\n' +\n",
    "      'The value of the quantile is: ' + str(t_quantile) + ', whereas the test is : ' + str(test_statistic) + '.' + '\\n' +\n",
    "      'This means the test is in the critical region. Then, we can reject the hypothesis H0 (this is confirmed with the p-value).'\n",
    "     )"
   ]
  },
  {
   "cell_type": "markdown",
   "metadata": {},
   "source": [
    "For the GNP value $1000$, we estimate the necessary Investment, provide confidence and prediction intervals for the $90\\%$ level."
   ]
  },
  {
   "cell_type": "code",
   "execution_count": 8,
   "metadata": {},
   "outputs": [
    {
     "name": "stdout",
     "output_type": "stream",
     "text": [
      "For the GNP value 1000, the predicted investment is: 155.97942793105494\n",
      "\n",
      "The confidence interval at the 90% level for the predicted investment with GNP value 1000 is: [146.67552673421952, 165.8734928682758] \n",
      "\n",
      "The prediction interval at the 90% level for the predicted investment with GNP value 1000 is: [132.00238933412936, 184.31167845087424]\n"
     ]
    }
   ],
   "source": [
    "# see the theoretical part above for the formulas\n",
    "\n",
    "v = np.log(1000)\n",
    "predict = [1, v] @ beta\n",
    "\n",
    "print('For the GNP value 1000, the predicted investment is: ' + str(np.exp(predict)) + '\\n')\n",
    "\n",
    "alpha = 0.1\n",
    "\n",
    "confidence_interval = [np.exp(predict - stats.t.ppf(1 - alpha/2, n-2) * np.sqrt(variance_estimator * ((1/n) + (v - mean_X)**2/sum(centered_X**2)))),\n",
    "                       np.exp(predict + stats.t.ppf(1 - alpha/2, n-2) * np.sqrt(variance_estimator * ((1/n) + (v - mean_X)**2/sum(centered_X**2))))]\n",
    "\n",
    "print('The confidence interval at the 90% level for the predicted investment with GNP value 1000 is: [' + \n",
    "      str(confidence_interval[0]) + ', ' + str(confidence_interval[1]) + '] \\n')\n",
    "\n",
    "prediction_interval = [np.exp(predict - stats.t.ppf(1 - alpha/2, n-2) * np.sqrt(variance_estimator * (1 + (1/n) + (v - mean_X)**2/sum(centered_X**2)))),\n",
    "                       np.exp(predict + stats.t.ppf(1 - alpha/2, n-2) * np.sqrt(variance_estimator * (1 + (1/n) + (v - mean_X)**2/sum(centered_X**2))))]\n",
    "\n",
    "print('The prediction interval at the 90% level for the predicted investment with GNP value 1000 is: [' + \n",
    "      str(prediction_interval[0]) + ', ' + str(prediction_interval[1]) + ']')"
   ]
  },
  {
   "cell_type": "markdown",
   "metadata": {},
   "source": [
    "On a plot with logarithmic axes (GNP as abscissa and Investment as ordinate), let plot the data, the estimated regression line, the confidence and prediction intervals for all values of log(GNP) between its minimum and maximum in the data set."
   ]
  },
  {
   "cell_type": "code",
   "execution_count": 9,
   "metadata": {
    "scrolled": true
   },
   "outputs": [
    {
     "data": {
      "image/png": "[encoded data removed]",
      "text/plain": [
       "<Figure size 432x288 with 1 Axes>"
      ]
     },
     "metadata": {
      "needs_background": "light"
     },
     "output_type": "display_data"
    }
   ],
   "source": [
    "index = np.linspace(min(X), max(X), 100)\n",
    "regression_line = slope_estimator * np.linspace(min(X), max(X), 100) + intercept_estimator\n",
    "\n",
    "predict_i = np.transpose(np.vstack((np.ones(100), index))) @ beta\n",
    "\n",
    "confidence_interval_down = predict_i - stats.t.ppf(1 - alpha/2, n-2) * np.sqrt(variance_estimator * ((1/n) + (index - mean_X)**2/sum(centered_X**2)))\n",
    "confidence_interval_up = predict_i + stats.t.ppf(1 - alpha/2, n-2) * np.sqrt(variance_estimator * ((1/n) + (index - mean_X)**2/sum(centered_X**2)))\n",
    "prediction_interval_down = predict_i - stats.t.ppf(1 - alpha/2, n-2) * np.sqrt(variance_estimator * (1 + (1/n) + (index - mean_X)**2/sum(centered_X**2)))\n",
    "prediction_interval_up = predict_i + stats.t.ppf(1 - alpha/2, n-2) * np.sqrt(variance_estimator * (1 + (1/n) + (index - mean_X)**2/sum(centered_X**2)))\n",
    "\n",
    "plt.xlabel('ln(GNP)')\n",
    "plt.ylabel('ln(invest)')\n",
    "plt.title('Linear regression only with arithmetic operations')\n",
    "\n",
    "plt.plot(X, y, 'b+', label = 'Data set')\n",
    "plt.plot(index, regression_line, c = 'r', label = 'Regression line', linewidth = 1)\n",
    "plt.plot(index, prediction_interval_down, 'g:', label = 'Prediction interval', linewidth = 1)\n",
    "plt.plot(index, prediction_interval_up, 'g:', linewidth = 1)\n",
    "plt.fill_between(index, confidence_interval_down, confidence_interval_up,color='#B1B1B1', label = 'Confidence interval')\n",
    "\n",
    "plt.legend(loc = 'best')\n",
    "plt.show()"
   ]
  },
  {
   "cell_type": "markdown",
   "metadata": {},
   "source": [
    "Now, let estimate the intercept, the slope, and the determination coefficient and predict the necessary Investment for the GNP value $1000$ using <tt>scikit-learn</tt> library."
   ]
  },
  {
   "cell_type": "code",
   "execution_count": 10,
   "metadata": {},
   "outputs": [
    {
     "name": "stdout",
     "output_type": "stream",
     "text": [
      "Estimation with sklearn of\n",
      "\n",
      "- the intercept: -1.9635913352301815\n",
      "- the slope: 1.015281401598871\n",
      "- the determination coefficient: 0.9627572956057855\n",
      "Prediction of Investment for the GNP value 1000: 155.97942793105494\n",
      "\n",
      "\n",
      "Before, we had: \n",
      "\n",
      "- the intercept: -1.9635913352301815\n",
      "- the slope: 1.015281401598871\n",
      "- the determination coefficient: 0.9627572956057855\n",
      "Prediction of Investment for the GNP value 100: 155.97942793105494\n"
     ]
    }
   ],
   "source": [
    "X_bis = X.reshape(-1, 1)\n",
    "y_bis = y.reshape(-1, 1)\n",
    "\n",
    "reg = LinearRegression().fit(X_bis, y_bis)\n",
    "\n",
    "slope_estimator2 = reg.coef_[0, 0]\n",
    "intercept_estimator2 = reg.intercept_ [0]\n",
    "determination_coefficient2 = reg.score(X_bis, y_bis)\n",
    "\n",
    "predict_1000 = np.exp(reg.predict(X = [[np.log(1000)]])[0, 0])\n",
    "\n",
    "print('Estimation with sklearn of' + '\\n\\n' +\n",
    "      '- the intercept: ' + str(intercept_estimator2) + '\\n' +\n",
    "      '- the slope: ' + str(slope_estimator2) + '\\n' +\n",
    "      '- the determination coefficient: ' + str(determination_coefficient2) + '\\n' +\n",
    "      'Prediction of Investment for the GNP value 1000: ' + str(predict_1000) + '\\n\\n'\n",
    "     )\n",
    "\n",
    "print('Before, we had: \\n\\n' +\n",
    "      '- the intercept: ' + str(intercept_estimator) + '\\n' +\n",
    "      '- the slope: ' + str(slope_estimator) + '\\n' +\n",
    "      '- the determination coefficient: ' + str(determination_coefficient) + '\\n' +\n",
    "      'Prediction of Investment for the GNP value 100: ' + str(np.exp(predict)))"
   ]
  },
  {
   "cell_type": "markdown",
   "metadata": {},
   "source": [
    "We see that we have the same results than those obtained by hands."
   ]
  },
  {
   "cell_type": "markdown",
   "metadata": {},
   "source": [
    "On a plot with logarithmic axes (GNP as abscissa and Investment as ordinate), we plot the data, the regression line and the predicted point (in a different color)."
   ]
  },
  {
   "cell_type": "code",
   "execution_count": 11,
   "metadata": {
    "scrolled": true
   },
   "outputs": [
    {
     "data": {
      "image/png": "[encoded data removed]",
      "text/plain": [
       "<Figure size 432x288 with 1 Axes>"
      ]
     },
     "metadata": {
      "needs_background": "light"
     },
     "output_type": "display_data"
    }
   ],
   "source": [
    "index2 = np.linspace(min(X), max(X), 100).reshape(-1, 1);\n",
    "regression_line2 = np.hstack((np.ones(index2.shape), index2))@np.array([reg.intercept_[0], reg.coef_[0]])\n",
    "\n",
    "plt.xlabel('ln(GNP)')\n",
    "plt.ylabel('ln(invest)')\n",
    "plt.title('Linear regression with sklearn')\n",
    "\n",
    "plt.plot(X, y, 'b+', label = 'Data set')\n",
    "plt.plot(index2, regression_line2, c = 'r', label = 'Regression line', linewidth = 1)\n",
    "plt.plot([np.log(1000)], [np.log(predict_1000)], 'o', c = 'm', label = 'Predicted point')\n",
    "\n",
    "plt.legend(loc = 'best')\n",
    "plt.show()"
   ]
  },
  {
   "cell_type": "markdown",
   "metadata": {},
   "source": [
    "We observe that this graphic coincides with the one we obtained before."
   ]
  },
  {
   "cell_type": "markdown",
   "metadata": {},
   "source": [
    "<h3> NOTE </h3> \n",
    "\n",
    "Further, we consider an additional explanatory variable, namely Interest (column “interest”, without a logarithmic transform). As before, all the calculations will be done with elementary arithmetic and will not involve existing libraries for running linear regression."
   ]
  },
  {
   "cell_type": "markdown",
   "metadata": {},
   "source": [
    "For the linear regression of Investment on GNP and Interest, let compute the associated Gram matrix and check if it is full rank."
   ]
  },
  {
   "cell_type": "code",
   "execution_count": 12,
   "metadata": {},
   "outputs": [
    {
     "name": "stdout",
     "output_type": "stream",
     "text": [
      "Is the gram matrix full rank ? Yes\n"
     ]
    }
   ],
   "source": [
    "design_matrix = np.hstack((np.ones(n).reshape(-1, 1), np.array(df[['gnp', 'interest']]).reshape(-1, 2)))\n",
    "\n",
    "gram_matrix = (1/n) * np.transpose(design_matrix) @ design_matrix\n",
    "gram_eigenvalues = np.linalg.eig(gram_matrix)[0]\n",
    "gram_is_full_rank = not(gram_eigenvalues == 0).any()\n",
    "print('Is the gram matrix full rank ? ' + 'Yes'*(gram_is_full_rank) + 'No'*(not(gram_is_full_rank)))"
   ]
  },
  {
   "cell_type": "markdown",
   "metadata": {},
   "source": [
    "For the linear regression of Investment on GNP and Interest, we estimate the three regression coefficients and their standard deviations, as well as the determination coefficient for the ordinary least squares. Additionally, we test significance of each coefficient using the Student-$t$ test. Finally, we discuss the significance of the estimated regression coefficients."
   ]
  },
  {
   "cell_type": "code",
   "execution_count": 13,
   "metadata": {},
   "outputs": [
    {
     "data": {
      "text/markdown": [
       "In what follows, the first coefficient corresponds to $\\beta_{0}$ (intercept), the second to $\\beta_{1}$ and the third to $\\beta_{2}$."
      ],
      "text/plain": [
       "<IPython.core.display.Markdown object>"
      ]
     },
     "metadata": {},
     "output_type": "display_data"
    },
    {
     "name": "stdout",
     "output_type": "stream",
     "text": [
      "The regression parameters are: (-2.1804547259130356, 1.0512426913199522, -0.006528879406103791) \n",
      "\n",
      "Their respective standard deviations are: (0.6623991977963773, 0.10206137806192427, 0.015344205065604225) \n",
      "\n",
      "The p-values are: (0.0064383670509060575, 2.5995168484449493e-07, 0.6780071418822278) \n",
      "\n",
      "The determination coefficient for the ordinary least squares is: 0.9633108306726244\n"
     ]
    },
    {
     "data": {
      "text/markdown": [
       "The two first coefficients $\\beta_{0}$ and $\\beta_{1}$ are in the rejected region so the null hypothesis $H_{0}$ can be rejected. However, this is not the case with $\\beta_{2}$, then we cannot reject the null hypothesis."
      ],
      "text/plain": [
       "<IPython.core.display.Markdown object>"
      ]
     },
     "metadata": {},
     "output_type": "display_data"
    }
   ],
   "source": [
    "inverse = np.linalg.inv(n * gram_matrix)\n",
    "reg_parameters = inverse @ np.transpose(design_matrix) @ y\n",
    "prediction = design_matrix @ reg_parameters\n",
    "\n",
    "variance_estimator2 = (1/(n-3)) * sum((y - prediction) ** 2)\n",
    "std2 = np.sqrt(variance_estimator2 * inverse.diagonal())\n",
    " \n",
    "determination_coefficient3 = 1 - (np.linalg.norm(y - prediction)/np.linalg.norm(y - mean_y)) ** 2\n",
    "\n",
    "reg_parameters_reduced = reg_parameters / std2\n",
    "p_values = 2 * (1 - stats.t.cdf(np.abs(reg_parameters_reduced), n-3))\n",
    "\n",
    "display(Markdown('In what follows, the first coefficient corresponds to $\\\\beta_{0}$ (intercept), the second to $\\\\beta_{1}$ and the third to $\\\\beta_{2}$.'))\n",
    "\n",
    "print('The regression parameters are: ' + '(' + str(reg_parameters[0]) + ', ' + str(reg_parameters[1]) + ', ' + str(reg_parameters[2]) + ') \\n')\n",
    "print('Their respective standard deviations are: ' + '(' + str(std2[0]) + ', ' + str(std2[1]) + ', ' + str(std2[2]) + ') \\n')\n",
    "print('The p-values are: ' + '(' + str(p_values[0]) + ', ' + str(p_values[1]) + ', ' + str(p_values[2]) + ') \\n')\n",
    "print('The determination coefficient for the ordinary least squares is: ' + str(determination_coefficient3))\n",
    "\n",
    "display(Markdown('The two first coefficients $\\\\beta_{0}$ and $\\\\beta_{1}$ are in the rejected region so the null hypothesis $H_{0}$ can be rejected. However, this is not the case with $\\\\beta_{2}$, then we cannot reject the null hypothesis.'))"
   ]
  },
  {
   "cell_type": "markdown",
   "metadata": {},
   "source": [
    "For the values of $GNP = 1000$ and $Interest = 10$, let predict the $log(Investment)$ and provide confident and prediction intervals at the $99.9\\%$ level."
   ]
  },
  {
   "cell_type": "code",
   "execution_count": 14,
   "metadata": {},
   "outputs": [
    {
     "name": "stdout",
     "output_type": "stream",
     "text": [
      "The predicted log(Investment) for GNP value 1000 and interest value 10 is: 5.015983730482715\n",
      "\n",
      "The confidence interval at the 99.9% level for the predicted log(investment) with GNP value 1000 and interest 10 is: [4.640184036688111, 5.391783424277318] \n",
      "\n",
      "The prediction interval at the 99.9% level for the predicted log(investment) with GNP value 1000 and interest 10 is: [4.473803343640295, 5.558164117325134]\n"
     ]
    }
   ],
   "source": [
    "v2 = np.array([1, np.log(1000), 10])\n",
    "prediction_1000_10 = v2 @ reg_parameters\n",
    "\n",
    "print('The predicted log(Investment) for GNP value 1000 and interest value 10 is: ' + str(prediction_1000_10) + '\\n')\n",
    "\n",
    "alpha2 = 0.001\n",
    "confidence_interval2 = [prediction_1000_10 - stats.t.ppf(1 - alpha2/2, n-3) * np.sqrt(variance_estimator2 * v2.T @ inverse @ v2),\n",
    "                        prediction_1000_10 + stats.t.ppf(1 - alpha2/2, n-3) * np.sqrt(variance_estimator2 * v2.T @ inverse @ v2)]\n",
    "\n",
    "print('The confidence interval at the 99.9% level for the predicted log(investment) with GNP value 1000 and interest 10 is: [' + \n",
    "      str(confidence_interval2[0]) + ', ' + str(confidence_interval2[1]) + '] \\n')\n",
    "\n",
    "prediction_interval2 = [prediction_1000_10 - stats.t.ppf(1 - alpha2/2, n-3) * np.sqrt(variance_estimator2 * (1 + v2.T @ inverse @ v2)),\n",
    "                        prediction_1000_10 + stats.t.ppf(1 - alpha2/2, n-3) * np.sqrt(variance_estimator2 * (1 + v2.T @ inverse @ v2))]\n",
    "\n",
    "print('The prediction interval at the 99.9% level for the predicted log(investment) with GNP value 1000 and interest 10 is: [' + \n",
    "      str(prediction_interval2[0]) + ', ' + str(prediction_interval2[1]) + ']')"
   ]
  },
  {
   "cell_type": "markdown",
   "metadata": {},
   "source": [
    "On a same $3D$-plot with axes being $log(GNP)$, $Interest$, and $log(Investment)$, we draw data points, their predictions, regression plane and surfaces of the $99.9\\%$ confidence intervals for each pair of values\n",
    "of $log(GNP)$ and $Interest$ between their minimum and maximum."
   ]
  },
  {
   "cell_type": "code",
   "execution_count": 15,
   "metadata": {
    "scrolled": false
   },
   "outputs": [
    {
     "data": {
      "text/plain": [
       "<matplotlib.legend.Legend at 0x199caf386d8>"
      ]
     },
     "execution_count": 15,
     "metadata": {},
     "output_type": "execute_result"
    },
    {
     "data": {
      "image/png": "[encoded data removed]",
      "text/plain": [
       "<Figure size 432x288 with 1 Axes>"
      ]
     },
     "metadata": {
      "needs_background": "light"
     },
     "output_type": "display_data"
    }
   ],
   "source": [
    "#to use interactive figure\n",
    "#%matplotlib notebook \n",
    "fig = plt.figure()\n",
    "ax = fig.add_subplot(111, projection = '3d')\n",
    "\n",
    "ax.set_title('Linear Regression')\n",
    "ax.set_xlabel('log(GNP)')\n",
    "ax.set_ylabel('Interest')\n",
    "ax.set_zlabel('log(Investment)')\n",
    "\n",
    "ax.scatter3D(xs = design_matrix[:, 1], ys = design_matrix[:, 2], zs = y, c = '#440154FF', label = 'Data set')\n",
    "ax.scatter3D(xs = design_matrix[:, 1], ys = design_matrix[:, 2], zs = prediction, c = '#29AF7FFF', label = 'Predictions')\n",
    "\n",
    "mx, Mx = min(design_matrix[:, 1]), max(design_matrix[:, 1])\n",
    "my, My = min(design_matrix[:, 2]), max(design_matrix[:, 2])\n",
    "\n",
    "xx, yy = np.meshgrid(np.linspace(mx, Mx, 50), np.linspace(my, My, 50))\n",
    "grid = np.hstack((np.ones(xx.size).reshape(-1, 1), xx.ravel().reshape(-1, 1) , yy.ravel().reshape(-1, 1)))\n",
    "\n",
    "zz = reg_parameters[0] + xx * reg_parameters[1] + yy * reg_parameters[2]\n",
    "\n",
    "confidence_interval_down2 = zz - stats.t.ppf(1 - alpha2/2, n-3) * np.sqrt(variance_estimator2 * (grid @ inverse @ grid.T).diagonal().reshape(50, 50))\n",
    "confidence_interval_up2 = zz + stats.t.ppf(1 - alpha2/2, n-3) * np.sqrt(variance_estimator2 * (grid @ inverse @ grid.T).diagonal().reshape(50, 50))\n",
    "\n",
    "ax.plot_surface(X = xx, Y = yy, Z = zz, rstride = 1, cstride = 1, cmap = 'viridis', edgecolor = 'none')\n",
    "ax.plot_surface(X = xx, Y = yy, Z = confidence_interval_down2, color = '#1f77b4')\n",
    "ax.plot_surface(X = xx, Y = yy, Z = confidence_interval_up2, color = '#1f77b4')\n",
    "\n",
    "ax.view_init(20, 300)\n",
    "ax.legend()"
   ]
  },
  {
   "cell_type": "markdown",
   "metadata": {},
   "source": [
    "Finally, we estimate the regression and determination coefficients and predict the necessary $log(Investment)$ for $GNP = 1000$ and $Interest = 10$ using <tt>scikit-learn</tt> library."
   ]
  },
  {
   "cell_type": "code",
   "execution_count": 16,
   "metadata": {},
   "outputs": [
    {
     "name": "stdout",
     "output_type": "stream",
     "text": [
      "Linear Regression with sklearn: \n",
      "\n",
      "Parameters: -2.180454725911404, 1.0512426913196597, -0.006528879406067978\n",
      "Determination coefficient for the OLS: 0.9633108306726245\n",
      "Predicted log(Investment) for GNP = 1000, interest = 10: 5.015983730482684\n",
      "\n",
      "\n",
      "Before (without sklearn), we had: \n",
      "\n",
      "Parameters: -2.1804547259130356, 1.0512426913199522, -0.006528879406103791\n",
      "Determination coefficient for the OLS: 0.9633108306726244\n",
      "Predicted log(Investment) for GNP = 1000, interest = 10: 5.015983730482715\n",
      "\n"
     ]
    }
   ],
   "source": [
    "reg2 = LinearRegression().fit(design_matrix, y_bis)\n",
    "prediction_1000_10_bis = reg2.predict(X = np.array([1, np.log(1000), 10]).reshape(-1, 3))[0, 0]\n",
    "#slope_estimator2 = reg.coef_[0, 0]\n",
    "#intercept_estimator2 = reg.intercept_ [0]\n",
    "#determination_coefficient2 = reg.score(X_bis, y_bis)\n",
    "\n",
    "#predict_1000 = np.exp(reg.predict(X = np.log(1000))[0, 0])\n",
    "\n",
    "print('Linear Regression with sklearn: \\n')\n",
    "print('Parameters: ' + str(reg2.intercept_[0]) + ', ' + str(reg2.coef_[0, 1]) + ', ' + str(reg2.coef_[0, 2]))\n",
    "print('Determination coefficient for the OLS: ' + str(reg2.score(design_matrix, y_bis)))\n",
    "print('Predicted log(Investment) for GNP = 1000, interest = 10: ' + str(prediction_1000_10_bis) + '\\n\\n')\n",
    "\n",
    "print('Before (without sklearn), we had: \\n')\n",
    "print('Parameters: ' + str(reg_parameters[0]) + ', ' + str(reg_parameters[1]) + ', ' + str(reg_parameters[2]))\n",
    "print('Determination coefficient for the OLS: ' + str(determination_coefficient3))\n",
    "print('Predicted log(Investment) for GNP = 1000, interest = 10: ' + str(prediction_1000_10) + '\\n')"
   ]
  },
  {
   "cell_type": "markdown",
   "metadata": {},
   "source": [
    "We observe that the estimated values coincide with the ones obtained using existing implementation."
   ]
  }
 ],
 "metadata": {
  "kernelspec": {
   "display_name": "Python 3",
   "language": "python",
   "name": "python3"
  },
  "language_info": {
   "codemirror_mode": {
    "name": "ipython",
    "version": 3
   },
   "file_extension": ".py",
   "mimetype": "text/x-python",
   "name": "python",
   "nbconvert_exporter": "python",
   "pygments_lexer": "ipython3",
   "version": "3.7.0"
  }
 },
 "nbformat": 4,
 "nbformat_minor": 2
}
