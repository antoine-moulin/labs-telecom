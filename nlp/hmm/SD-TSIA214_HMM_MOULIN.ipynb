{
 "cells": [
  {
   "cell_type": "markdown",
   "metadata": {},
   "source": [
    "<h1>HMM and Text Segmentation</center>"
   ]
  },
  {
   "cell_type": "code",
   "execution_count": 2,
   "metadata": {},
   "outputs": [],
   "source": [
    "import numpy as np"
   ]
  },
  {
   "cell_type": "markdown",
   "metadata": {},
   "source": [
    "## Task: automatic segmentation of mails, problem statement"
   ]
  },
  {
   "cell_type": "markdown",
   "metadata": {},
   "source": [
    "This lab aims to build an email segmentation tool, dedicated to separate the email header from its body. It is proposed to perform this task by learning a HMM $(A, B, \\pi)$ with two states, one (state $1$) for the header, the other (state $2$) for the body. In this model, it is assumed that each mail actually contains a header: the decoding necessarily begins in the state $1$."
   ]
  },
  {
   "cell_type": "markdown",
   "metadata": {},
   "source": [
    "### Question 1 \n",
    "Give the value of the $\\pi$ vector of the initial probabilities."
   ]
  },
  {
   "cell_type": "markdown",
   "metadata": {},
   "source": [
    "As said in the subject, each mail contains a header. Thus, we begin in state $1$ and the initial vector of probabilities is:\n",
    "\n",
    "$$\\boxed{\\pi_{0} = \\left(\\begin{array}{cc} 1 & 0 \\end{array}\\right)}$$\n",
    "\n",
    "<hr />"
   ]
  },
  {
   "cell_type": "markdown",
   "metadata": {},
   "source": [
    "Knowing that each mail contains exactly one header and one body, each mail follows once the transition from $1$ to $2$. The transition matrix $(A(i, j) = P(j | i))$ estimated on a labeled small corpus has thus the following form:\n",
    "\n",
    "$$ A = \\left(\\begin{array}{cc} \n",
    "0.999218078035812 & 0.000781921964187974 \\\\\n",
    "0 & 1 \\\\\n",
    "\\end{array}\\right) $$"
   ]
  },
  {
   "cell_type": "markdown",
   "metadata": {},
   "source": [
    "### Question 2\n",
    "What is the probability to move from state 1 to state 2? What is the probability to remain in state 2? What is the lower/higher probability? Try to explain why."
   ]
  },
  {
   "cell_type": "markdown",
   "metadata": {},
   "source": [
    "The probability to move from state $1$ to state $2$ is $0.000781921964187974$ according to the matrix $A$ given by the subject. It seems low (it is the lowest value of the matrix) but it comes from the fact that a header has probably an average length of $1000-1500$ and that we follow the transition from state $1$ to state $2$ once. Thus, the probability of transition is $\\frac{1}{1200} \\approx A[1, 2]$.\n",
    "\n",
    "The probability to remain in state 2 is equal to $1$ (highest probability in $A$), because an email only follows the transition once.\n",
    "\n",
    "<hr />"
   ]
  },
  {
   "cell_type": "markdown",
   "metadata": {},
   "source": [
    "A mail is represented by a sequence of characters. Let $N$ be the number of different characters. Each part of the mail is characterized by a discrete probability distribution on the characters $P(c | s)$, with $s = 1$ or $s = 2$."
   ]
  },
  {
   "cell_type": "markdown",
   "metadata": {},
   "source": [
    "### Question 3\n",
    "What is the size of B?"
   ]
  },
  {
   "cell_type": "markdown",
   "metadata": {},
   "source": [
    "The matrix $B$ contains the probability of observing each symbol in each state.\n",
    "\n",
    "Thus, the size of $B$ is $(N, 2)$.\n",
    "\n",
    "<hr />"
   ]
  },
  {
   "cell_type": "markdown",
   "metadata": {},
   "source": [
    "## To implement"
   ]
  },
  {
   "cell_type": "markdown",
   "metadata": {},
   "source": [
    "* Implement the Viterbi algorithm. Concretely, it comes to coding a function which takes as argument a vector of observations and the parameters of the model, and returns a vector of states representing the most probable sequence.\n",
    "* Test it on some mails that are given in the <tt>dat</tt> directory (especially <tt>mail11.txt</tt> to <tt>mail30.txt</tt>)."
   ]
  },
  {
   "cell_type": "code",
   "execution_count": 136,
   "metadata": {},
   "outputs": [],
   "source": [
    "# initialization\n",
    "\n",
    "X = np.loadtxt('./dat/' + 'mail1.dat')\n",
    "Pi0 = np.array([1, 0])\n",
    "A = np.array([[0.999218078035812, 0.000781921964187974],\n",
    "              [0                , 1]])\n",
    "P = np.loadtxt('./PerlScriptAndModel/' + 'P.text')"
   ]
  },
  {
   "cell_type": "code",
   "execution_count": 137,
   "metadata": {},
   "outputs": [],
   "source": [
    "def viterbi(X, Pi0 = Pi0, A = A, P = P):\n",
    "    \"\"\"\n",
    "        Viterbi Algorithm Implementation\n",
    "\n",
    "        Keyword arguments:\n",
    "            - obs: sequence of observation\n",
    "            - states:list of states\n",
    "            - start_prob:vector of the initial probabilities\n",
    "            - trans: transition matrix\n",
    "            - emission_prob: emission probability matrix\n",
    "        Returns:\n",
    "            - seq: sequence of state\n",
    "    \"\"\"\n",
    "\n",
    "    # to avoid null values in the log\n",
    "    realmin = np.finfo(np.double).tiny\n",
    "    A = np.log(A + realmin)\n",
    "    Pi0 = np.log(Pi0 + realmin)\n",
    "    P = np.log(P + realmin)\n",
    "    taille = np.shape(X)\n",
    "    T = taille[0] # number of observations\n",
    "    N = Pi0.shape[0] # number of states of the model\n",
    "\n",
    "    # initialization\n",
    "    logl = np.zeros((T, N))\n",
    "    bcktr = np.zeros((T-1, N))\n",
    "        \n",
    "    logl[0, :] = Pi0 + P[X[0], :]\n",
    "\n",
    "    # recursion\n",
    "    for t in range(T-1):\n",
    "        logl[t+1, :] = P[X[t+1], :] + np.max(A + logl[t, :].reshape(-1, 1), axis = 0)\n",
    "        bcktr[t, :] = np.argmax(A + logl[t, :].reshape(-1, 1), axis = 0)\n",
    "    \n",
    "    # termination\n",
    "    path = np.zeros(T, dtype = int)\n",
    "    path[-1] = np.argmax(logl[-1, :])\n",
    "    \n",
    "    # backtrack\n",
    "    for t in range(T-1, 0, -1):\n",
    "        path[t-1] = bcktr[t-1, path[t]]\n",
    "    \n",
    "    return logl, path"
   ]
  },
  {
   "cell_type": "code",
   "execution_count": 138,
   "metadata": {},
   "outputs": [],
   "source": [
    "logl, path = viterbi(X.astype(int), Pi0, A, P)"
   ]
  },
  {
   "cell_type": "code",
   "execution_count": 144,
   "metadata": {},
   "outputs": [],
   "source": [
    "def visualize_segmentation(mail_name, path, mail_dir = './dat/'):\n",
    "    \"\"\"\n",
    "        Implementation of the visualization. Adds a '================ cut here' to separate the header from the body.\n",
    "        \n",
    "        Keyword arguments:\n",
    "            - mail_name: path to the file that contains the mail, e.g. 'mail11.txt'\n",
    "            - path: sequence obtained with the Viterbi algorithm\n",
    "            - mail_dir: folder in which to find the mails, default is './dat/'\n",
    "    \"\"\"\n",
    "    \n",
    "    sep_idx = np.argmax(path) # use the assumption that the transition is only made once\n",
    "    \n",
    "    # open the files\n",
    "    mail = open(mail_dir + mail_name, 'r').read()\n",
    "    visu_mail = open(mail_dir + 'visu_' + mail_name, 'w')\n",
    "    \n",
    "    # add the line of separation\n",
    "    visu_mail.write(mail[:sep_idx] +\n",
    "                    '\\n================ cut here\\n' +\n",
    "                    mail[sep_idx:])\n",
    "    \n",
    "    # close the files\n",
    "    visu_mail.close()"
   ]
  },
  {
   "cell_type": "markdown",
   "metadata": {},
   "source": [
    "## Visualizing segmentation"
   ]
  },
  {
   "cell_type": "code",
   "execution_count": 160,
   "metadata": {},
   "outputs": [],
   "source": [
    "mails = open(\"dat/mail.lst\", \"r\").readlines()\n",
    "\n",
    "# make the separation for all the mails\n",
    "for mail in mails:\n",
    "    mail_dat = np.loadtxt('./dat/' + mail[:-1]).astype(int)\n",
    "    visualize_segmentation(mail[:-5] + '.txt', viterbi(mail_dat)[1])"
   ]
  },
  {
   "cell_type": "markdown",
   "metadata": {},
   "source": [
    "### Question 4\n",
    "Print the track and present and discuss the results obtained on <tt>mail11.txt</tt> to <tt>mail30.txt</tt>"
   ]
  },
  {
   "cell_type": "markdown",
   "metadata": {},
   "source": [
    "The algorithm seems to give good results. Indeed, when it does not separate perfectly, the predicted separation is often next to the truth separation (two lines above in <tt>mail20.txt</tt> as shown below), and sometimes inside a word. Thus, it is satisfying."
   ]
  },
  {
   "cell_type": "code",
   "execution_count": 161,
   "metadata": {},
   "outputs": [
    {
     "name": "stdout",
     "output_type": "stream",
     "text": [
      "From spamassassin-devel-admin@lists.sourceforge.net  Thu Aug 22 15:25:29 2002\n",
      "Return-Path: <spamassassin-devel-admin@example.sourceforge.net>\n",
      "Delivered-To: zzzz@localhost.netnoteinc.com\n",
      "Received: from localhost (localhost [127.0.0.1])\n",
      "\tby phobos.labs.netnoteinc.com (Postfix) with ESMTP id AE2D043F9B\n",
      "\tfor <zzzz@localhost>; Thu, 22 Aug 2002 10:25:29 -0400 (EDT)\n",
      "Received: from phobos [127.0.0.1]\n",
      "\tby localhost with IMAP (fetchmail-5.9.0)\n",
      "\tfor zzzz@localhost (single-drop); Thu, 22 Aug 2002 15:25:29 +0100 (IST)\n",
      "Received: from usw-sf-list2.sourceforge.net (usw-sf-fw2.sourceforge.net\n",
      "    [216.136.171.252]) by dogma.slashnull.org (8.11.6/8.11.6) with ESMTP id\n",
      "    g7MENlZ09984 for <zzzz@spamassassin.taint.org>; Thu, 22 Aug 2002 15:23:47 +0100\n",
      "Received: from usw-sf-list1-b.sourceforge.net ([10.3.1.13]\n",
      "    helo=usw-sf-list1.sourceforge.net) by usw-sf-list2.sourceforge.net with\n",
      "    esmtp (Exim 3.31-VA-mm2 #1 (Debian)) id 17hsof-00042r-00; Thu,\n",
      "    22 Aug 2002 07:20:05 -0700\n",
      "Received: from vivi.uptime.at ([62.116.87.11] helo=mail.uptime.at) by\n",
      "    usw-sf-list1.sourceforge.net with esmtp (Exim 3.31-VA-mm2 #1 (Debian)) id\n",
      "    17hsoM-0000Ge-00 for <spamassassin-devel@lists.sourceforge.net>;\n",
      "    Thu, 22 Aug 2002 07:19:47 -0700\n",
      "Received: from [192.168.0.4] (chello062178142216.4.14.vie.surfer.at\n",
      "    [62.178.142.216]) (authenticated bits=0) by mail.uptime.at (8.12.5/8.12.5)\n",
      "    with ESMTP id g7MEI7Vp022036 for\n",
      "    <spamassassin-devel@lists.sourceforge.net>; Thu, 22 Aug 2002 16:18:07\n",
      "    +0200\n",
      "User-Agent: Microsoft-Entourage/10.0.0.1309\n",
      "From: David H=?ISO-8859-1?B?9g==?=hn <dh@uptime.at>\n",
      "To: <spamassassin-devel@example.sourceforge.net>\n",
      "Message-Id: <B98ABFA4.1F87%dh@uptime.at>\n",
      "MIME-Version: 1.0\n",
      "X-Trusted: YES\n",
      "X-From-Laptop: YES\n",
      "Content-Type: text/plain; charset=\"US-ASCII\"\n",
      "Content-Transfer-Encoding: 7bit\n",
      "X-Mailscanner: Nothing found, baby\n",
      "Subject: [SAdev] Interesting approach to Spam handling..\n",
      "Sender: spamassassin-devel-admin@example.sourceforge.net\n",
      "Errors-To: spamassassin-devel-admin@example.sourceforge.net\n",
      "X-Beenthere: spamassassin-devel@example.sourceforge.net\n",
      "X-Mailman-Version: 2.0.9-sf.net\n",
      "Precedence: bulk\n",
      "List-Help: <mailto:spamassassin-devel-request@example.sourceforge.net?subject=help>\n",
      "List-Post: <mailto:spamassassin-devel@example.sourceforge.net>\n",
      "List-Subscribe: <https://example.sourceforge.net/lists/listinfo/spamassassin-devel>,\n",
      "    <mailto:spamassassin-devel-request@lists.sourceforge.net?subject=subscribe>\n",
      "List-Id: SpamAssassin Developers <spamassassin-devel.example.sourceforge.net>\n",
      "List-Unsubscribe: <https://example.sourceforge.net/lists/listinfo/spamassassin-devel>,\n",
      "    <mailto:spamassassin-devel-request@lists.sourceforge.net?subject=unsubscribe>\n",
      "List-Archive: <http://www.geocrawler.com/redir-sf.php3?list=spamassassin-devel>\n",
      "X-Original-Date: Thu, 22 Aug 2002 16:19:48 +0200\n",
      "Date: Thu, 22 Aug 2002 16:19:48 +0200\n",
      "================ cut here\n",
      "\n",
      "\n",
      "Hello, have you seen and discussed this article and his approach?\n",
      "\n",
      "Thank you\n",
      "\n",
      "http://www.paulgraham.com/spam.html\n",
      "-- \"Hell, there are no rules here-- we're trying to accomplish something.\"\n",
      "-- Thomas Alva Edison\n",
      "\n",
      "\n",
      "\n",
      "\n",
      "-------------------------------------------------------\n",
      "This sf.net email is sponsored by: OSDN - Tired of that same old\n",
      "cell phone?  Get a new here for FREE!\n",
      "https://www.inphonic.com/r.asp?r=sourceforge1&refcode1=vs3390\n",
      "_______________________________________________\n",
      "Spamassassin-devel mailing list\n",
      "Spamassassin-devel@lists.sourceforge.net\n",
      "https://lists.sourceforge.net/lists/listinfo/spamassassin-devel\n",
      "\n",
      "\n"
     ]
    }
   ],
   "source": [
    "# separation for mail11\n",
    "visu_mail = open('./dat/' + 'visu_mail11.txt', 'r').read()\n",
    "print(visu_mail)"
   ]
  },
  {
   "cell_type": "code",
   "execution_count": 164,
   "metadata": {},
   "outputs": [
    {
     "name": "stdout",
     "output_type": "stream",
     "text": [
      "From ilug-admin@linux.ie  Thu Aug 22 17:19:25 2002\n",
      "Return-Path: <ilug-admin@linux.ie>\n",
      "Delivered-To: zzzz@localhost.netnoteinc.com\n",
      "Received: from localhost (localhost [127.0.0.1])\n",
      "\tby phobos.labs.netnoteinc.com (Postfix) with ESMTP id CD34B47C67\n",
      "\tfor <zzzz@localhost>; Thu, 22 Aug 2002 12:19:21 -0400 (EDT)\n",
      "Received: from phobos [127.0.0.1]\n",
      "\tby localhost with IMAP (fetchmail-5.9.0)\n",
      "\tfor zzzz@localhost (single-drop); Thu, 22 Aug 2002 17:19:21 +0100 (IST)\n",
      "Received: from lugh.tuatha.org (root@lugh.tuatha.org [194.125.145.45]) by\n",
      "    dogma.slashnull.org (8.11.6/8.11.6) with ESMTP id g7MGHJZ14177 for\n",
      "    <zzzz-ilug@spamassassin.taint.org>; Thu, 22 Aug 2002 17:17:19 +0100\n",
      "Received: from lugh (root@localhost [127.0.0.1]) by lugh.tuatha.org\n",
      "    (8.9.3/8.9.3) with ESMTP id RAA09581; Thu, 22 Aug 2002 17:16:28 +0100\n",
      "X-Authentication-Warning: lugh.tuatha.org: Host root@localhost [127.0.0.1]\n",
      "    claimed to be lugh\n",
      "Received: from redpie.com (redpie.com [216.122.135.208] (may be forged))\n",
      "    by lugh.tuatha.org (8.9.3/8.9.3) with ESMTP id RAA09518 for\n",
      "    <ilug@linux.ie>; Thu, 22 Aug 2002 17:16:08 +0100\n",
      "Received: from justin ([194.46.28.223]) by redpie.com (8.8.7/8.8.5) with\n",
      "    SMTP id JAA05201 for <ilug@linux.ie>; Thu, 22 Aug 2002 09:15:59 -0700\n",
      "    (PDT)\n",
      "From: \"Kiall Mac Innes\" <kiall@redpie.com>\n",
      "To: \"ILUG\" <ilug@linux.ie>\n",
      "Date: Thu, 22 Aug 2002 17:23:15 +0100\n",
      "Message-Id: <BCEFLMCEIJHPCPLGADJIGEEFCAAA.kiall@redpie.com>\n",
      "MIME-Version: 1.0\n",
      "Content-Type: text/plain; charset=\"iso-8859-1\"\n",
      "Content-Transfer-Encoding: 7bit\n",
      "X-Priority: 3 (Normal)\n",
      "X-Msmail-Priority: Normal\n",
      "X-Mailer: Microsoft Outlook IMO, Build 9.0.2416 (9.0.2910.0)\n",
      "X-Mimeole: Produced By Microsoft MimeOLE V5.50.4522.1200\n",
      "Importance: Normal\n",
      "Subject: [ILUG] Sun Solaris..\n",
      "Sender: ilug-admin@linux.ie\n",
      "Errors-To: ilug-admin@linux.ie\n",
      "X-Mailman-Version: 1.1\n",
      "Precedence: bulk\n",
      "L\n",
      "================ cut here\n",
      "ist-Id: Irish Linux Users' Group <ilug.linux.ie>\n",
      "X-Beenthere: ilug@linux.ie\n",
      "\n",
      "Can someone explain what type of operating system Solaris is... as ive never\n",
      "seen or used it i dont know wheather to get a server from Sun or from DELL i\n",
      "would prefer a linux based server and Sun seems to be the one for that but\n",
      "im not sure if Solaris is a distro of linux or a completely different\n",
      "operating system? can someone explain...\n",
      "\n",
      "Kiall Mac Innes\n",
      "\n",
      "\n",
      "-- \n",
      "Irish Linux Users' Group: ilug@linux.ie\n",
      "http://www.linux.ie/mailman/listinfo/ilug for (un)subscription information.\n",
      "List maintainer: listmaster@linux.ie\n",
      "\n",
      "\n"
     ]
    }
   ],
   "source": [
    "# separation for mail20\n",
    "visu_mail = open('./dat/' + 'visu_mail20.txt', 'r').read()\n",
    "print(visu_mail)"
   ]
  },
  {
   "cell_type": "markdown",
   "metadata": {},
   "source": [
    "## Further questions"
   ]
  },
  {
   "cell_type": "markdown",
   "metadata": {},
   "source": [
    "### Question 5"
   ]
  },
  {
   "cell_type": "markdown",
   "metadata": {},
   "source": [
    "How would you model the problem if you had to segment the mails in more than two parts (for example: header, body, signature)? Draw a diagram of the corresponding Hidden Markov model and give an example of A matrix that would be suitable in this case."
   ]
  },
  {
   "cell_type": "markdown",
   "metadata": {},
   "source": [
    "In order to segment the mails in more than two parts, the Hidden Markov model would need as many states as number of parts. In this case, we would have three states: $1$ for the header, $2$ for the body and $3$ for the signature.\n",
    "\n",
    "Besides, the matrix $A$ would be a $3 \\times 3$ upper triangular matrix because the transitions from $1$ to $2$, $1$ to $3$ or $2$ to $3$ can be only made once. For instance, we could have:\n",
    "\n",
    "$$ A = \\left( \\begin{array}{ccc}\n",
    "        0.92 & 0.079 & 0.001 \\\\\n",
    "        0    & 0.95  & 0.05 \\\\\n",
    "        0    & 0     & 1 \\\\ \\end{array} \\right) $$\n",
    "        \n",
    "Here is the diagram that represents the model:"
   ]
  },
  {
   "cell_type": "markdown",
   "metadata": {},
   "source": [
    "![HMM with three states](HMM_three_states.PNG)"
   ]
  },
  {
   "cell_type": "markdown",
   "metadata": {},
   "source": [
    "### Question 6"
   ]
  },
  {
   "cell_type": "markdown",
   "metadata": {},
   "source": [
    "How would you model the problem of separating the portions of mail included, knowing that they always start with the character \">\". Draw a diagram of the corresponding Hidden Markov model."
   ]
  },
  {
   "cell_type": "markdown",
   "metadata": {},
   "source": [
    "In the same way, we would have four states: $1$ for the header, $2$ for the body, $3$ for an included mail and $4$ for the signature. We can have several included mails so we have to allow a transition from body to included mail and from included mail to body. And the transitions header $\\rightarrow$ {body, included mail} and {body, included mail} $\\rightarrow$ signature can only be made once."
   ]
  },
  {
   "cell_type": "markdown",
   "metadata": {},
   "source": [
    "![HMM with four states](HMM_four_states.PNG)"
   ]
  },
  {
   "cell_type": "markdown",
   "metadata": {},
   "source": [
    "## BONUS: Unsupervised learning"
   ]
  },
  {
   "cell_type": "markdown",
   "metadata": {},
   "source": [
    "### Question 7"
   ]
  },
  {
   "cell_type": "markdown",
   "metadata": {},
   "source": [
    "Present the pseudo code of the algorithm and discuss the results."
   ]
  },
  {
   "cell_type": "markdown",
   "metadata": {},
   "source": [
    "### Question 8"
   ]
  },
  {
   "cell_type": "markdown",
   "metadata": {},
   "source": [
    "Present the pseudo code of the algorithm and discuss the results."
   ]
  }
 ],
 "metadata": {
  "kernelspec": {
   "display_name": "Python 3",
   "language": "python",
   "name": "python3"
  },
  "language_info": {
   "codemirror_mode": {
    "name": "ipython",
    "version": 3
   },
   "file_extension": ".py",
   "mimetype": "text/x-python",
   "name": "python",
   "nbconvert_exporter": "python",
   "pygments_lexer": "ipython3",
   "version": "3.7.0"
  }
 },
 "nbformat": 4,
 "nbformat_minor": 2
}
