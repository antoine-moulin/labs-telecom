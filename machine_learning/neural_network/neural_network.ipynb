{
 "cells": [
  {
   "cell_type": "markdown",
   "metadata": {},
   "source": [
    "<div style = \"text-align:right\"> Antoine Moulin & Alberto Begué</div>"
   ]
  },
  {
   "cell_type": "markdown",
   "metadata": {},
   "source": [
    "# SD-TSIA 210\n",
    "# Computer Lab: Training a neural network"
   ]
  },
  {
   "cell_type": "markdown",
   "metadata": {},
   "source": [
    "<b>Lab's authors:</b> A. Garcia, A. Lambert, G. Staerman, G. Varni <br/>\n",
    "<b>Date:</b> April 6, 2019"
   ]
  },
  {
   "cell_type": "markdown",
   "metadata": {},
   "source": [
    "No deadline."
   ]
  },
  {
   "cell_type": "markdown",
   "metadata": {},
   "source": [
    "## 1. Training a neural network with keras"
   ]
  },
  {
   "cell_type": "code",
   "execution_count": 1,
   "metadata": {},
   "outputs": [],
   "source": [
    "%matplotlib inline \n",
    "import numpy as np\n",
    "import matplotlib.pyplot as plt\n",
    "from sklearn.datasets import load_digits"
   ]
  },
  {
   "cell_type": "code",
   "execution_count": 2,
   "metadata": {},
   "outputs": [],
   "source": [
    "digits = load_digits()"
   ]
  },
  {
   "cell_type": "code",
   "execution_count": 3,
   "metadata": {},
   "outputs": [
    {
     "data": {
      "image/png": "[encoded data removed]",
      "text/plain": [
       "<Figure size 864x864 with 3 Axes>"
      ]
     },
     "metadata": {
      "needs_background": "light"
     },
     "output_type": "display_data"
    }
   ],
   "source": [
    "sample_index = np.array([11, 50, 62])\n",
    "plt.figure(figsize=(12, 12))\n",
    "for i in np.arange(sample_index.shape[0]):\n",
    "    plt.subplot(131 + i)\n",
    "    plt.imshow(digits.images[sample_index[i]], cmap=plt.cm.gray_r,\n",
    "           interpolation='nearest')\n",
    "    plt.title(\"image label: %d\" % digits.target[sample_index[i]])\n",
    "plt.show()"
   ]
  },
  {
   "cell_type": "markdown",
   "metadata": {},
   "source": [
    "### Preprocessing"
   ]
  },
  {
   "cell_type": "code",
   "execution_count": 26,
   "metadata": {},
   "outputs": [],
   "source": [
    "from sklearn.model_selection import train_test_split\n",
    "from sklearn.preprocessing import StandardScaler"
   ]
  },
  {
   "cell_type": "code",
   "execution_count": 46,
   "metadata": {},
   "outputs": [],
   "source": [
    "# split the dataset\n",
    "X_train, X_test, y_train, y_test = train_test_split(digits.data, digits.target, test_size=0.33)\n",
    "\n",
    "# normalize the training set and apply the transformation to the train set\n",
    "scaler = StandardScaler()\n",
    "scaler.fit(X_train)\n",
    "X_train_scale = scaler.transform(X_train)\n",
    "X_test_scale = scaler.transform(X_test)"
   ]
  },
  {
   "cell_type": "code",
   "execution_count": 47,
   "metadata": {},
   "outputs": [
    {
     "data": {
      "image/png": "[encoded data removed]",
      "text/plain": [
       "<Figure size 864x864 with 2 Axes>"
      ]
     },
     "metadata": {
      "needs_background": "light"
     },
     "output_type": "display_data"
    }
   ],
   "source": [
    "plt.figure(figsize=(12, 12))\n",
    "# print a sample normalized\n",
    "plt.subplot(131)\n",
    "plt.imshow(X_train_scale[0].reshape(8, 8), cmap=plt.cm.gray_r, interpolation='nearest')\n",
    "plt.title(\"image label: %d\" % y_train[0])\n",
    "\n",
    "# print the original sample\n",
    "plt.subplot(132)\n",
    "original_sample = X_train_scale[0]*np.sqrt(scaler.var_) + scaler.mean_\n",
    "plt.imshow(original_sample.reshape(8, 8), cmap=plt.cm.gray_r, interpolation='nearest')\n",
    "plt.title(\"image label: %d\" % y_train[0])\n",
    "plt.show()"
   ]
  },
  {
   "cell_type": "code",
   "execution_count": 48,
   "metadata": {},
   "outputs": [
    {
     "name": "stderr",
     "output_type": "stream",
     "text": [
      "Using TensorFlow backend.\n"
     ]
    }
   ],
   "source": [
    "from keras.utils import to_categorical\n",
    "\n",
    "Y_train, Y_test = to_categorical(y_train), to_categorical(y_test)"
   ]
  },
  {
   "cell_type": "markdown",
   "metadata": {},
   "source": [
    "This is needed because in the end, we will have a vector of probabilities with components between $0$ and $1$ and then we take the argmax as the predicted class. Besides, the formula of the cross entropy supposes that the real output is $0$ or $1$."
   ]
  },
  {
   "cell_type": "markdown",
   "metadata": {},
   "source": [
    "### Building and training the neural network"
   ]
  },
  {
   "cell_type": "code",
   "execution_count": 50,
   "metadata": {},
   "outputs": [
    {
     "name": "stdout",
     "output_type": "stream",
     "text": [
      "Epoch 1/10\n",
      "1203/1203 [==============================] - 0s 253us/step - loss: 2.3265 - acc: 0.1588\n",
      "Epoch 2/10\n",
      "1203/1203 [==============================] - 0s 29us/step - loss: 2.1396 - acc: 0.1945\n",
      "Epoch 3/10\n",
      "1203/1203 [==============================] - 0s 25us/step - loss: 2.0235 - acc: 0.2577\n",
      "Epoch 4/10\n",
      "1203/1203 [==============================] - 0s 26us/step - loss: 1.9146 - acc: 0.2868\n",
      "Epoch 5/10\n",
      "1203/1203 [==============================] - 0s 26us/step - loss: 1.8227 - acc: 0.3150\n",
      "Epoch 6/10\n",
      "1203/1203 [==============================] - 0s 26us/step - loss: 1.7592 - acc: 0.3948\n",
      "Epoch 7/10\n",
      "1203/1203 [==============================] - 0s 28us/step - loss: 1.6971 - acc: 0.4356\n",
      "Epoch 8/10\n",
      "1203/1203 [==============================] - 0s 26us/step - loss: 1.6443 - acc: 0.4647\n",
      "Epoch 9/10\n",
      "1203/1203 [==============================] - 0s 25us/step - loss: 1.5917 - acc: 0.5278\n",
      "Epoch 10/10\n",
      "1203/1203 [==============================] - 0s 27us/step - loss: 1.5444 - acc: 0.5769\n"
     ]
    },
    {
     "data": {
      "text/plain": [
       "<keras.callbacks.History at 0x24270fbd4a8>"
      ]
     },
     "execution_count": 50,
     "metadata": {},
     "output_type": "execute_result"
    }
   ],
   "source": [
    "from keras.models import Sequential\n",
    "from keras.layers.core import Dense, Activation\n",
    "from keras import optimizers\n",
    "\n",
    "n_i = X_train.shape[1]\n",
    "n_h = 5\n",
    "n_o = 10\n",
    "\n",
    "model = Sequential()\n",
    "model.add(Dense(n_h, input_dim=n_i))\n",
    "model.add(Activation(\"tanh\"))\n",
    "model.add(Dense(n_o))\n",
    "model.add(Activation(\"softmax\"))\n",
    "\n",
    "model.compile(optimizer=optimizers.SGD(lr=0.01),\n",
    "              loss='categorical_crossentropy', metrics=['accuracy'])\n",
    "model.fit(X_train, Y_train, epochs=10, batch_size=32)"
   ]
  },
  {
   "cell_type": "markdown",
   "metadata": {},
   "source": [
    "<h3> Question 3 </h3>\n",
    "\n",
    "Show that minimizing the cross entropy loss is equivalent to maximizing the log-likelihood of the observations under a well chosent probabilistic model."
   ]
  },
  {
   "cell_type": "markdown",
   "metadata": {},
   "source": [
    "Let suppose that our observations follow a Bernoulli distribution. Then, for a probability $p$ obtained with our model, the probability that the output class is $y$ is given by\n",
    "\n",
    "$$\\mathbb{P} \\left( y | p \\right) = p^{y}(1 - p)^{1 - y}$$\n",
    "\n",
    "The likelihood is given by :\n",
    "\n",
    "$$\\mathbb{P} \\left( y | x \\right) = \\prod_{i=1}^{n} \\mathbb{P} \\left( y | x_{i} \\right)^{y_{i}} \\left( 1 - \\mathbb{P} \\left( y | x_{i} \\right) \\right)^{1 - y_{i}}$$\n",
    "\n",
    "And the log-likelihood :\n",
    "\n",
    "$$\\log \\mathbb{P} \\left( y | x \\right) = \\sum_{i=1}^{n} y_{i} \\log \\mathbb{P} \\left( y | x_{i} \\right) + \\left( 1 - y_{i} \\right) \\log \\left( 1 - \\mathbb{P} \\left( y | x_{i} \\right) \\right)$$\n",
    "\n",
    "Thus, we see that the cross entropy loss is given by $- \\log \\mathbb{P} \\left( y | x \\right)$. Then, minimizing the cross entropy loss is equivalent to maximizing the log-likelihood."
   ]
  },
  {
   "cell_type": "markdown",
   "metadata": {},
   "source": [
    "<h3> Question 4 </h3>\n",
    "\n",
    "Play with the size of the hidden layer. How does the optimization process behave at fixed learning rate and epochs?"
   ]
  },
  {
   "cell_type": "code",
   "execution_count": 56,
   "metadata": {},
   "outputs": [
    {
     "name": "stdout",
     "output_type": "stream",
     "text": [
      "Epoch 1/10\n",
      "1203/1203 [==============================] - 0s 164us/step - loss: 2.4981 - acc: 0.1812\n",
      "Epoch 2/10\n",
      "1203/1203 [==============================] - 0s 27us/step - loss: 2.0298 - acc: 0.3392\n",
      "Epoch 3/10\n",
      "1203/1203 [==============================] - 0s 28us/step - loss: 1.7371 - acc: 0.4422\n",
      "Epoch 4/10\n",
      "1203/1203 [==============================] - 0s 27us/step - loss: 1.5233 - acc: 0.5428\n",
      "Epoch 5/10\n",
      "1203/1203 [==============================] - 0s 27us/step - loss: 1.3516 - acc: 0.6367\n",
      "Epoch 6/10\n",
      "1203/1203 [==============================] - 0s 27us/step - loss: 1.2214 - acc: 0.6949\n",
      "Epoch 7/10\n",
      "1203/1203 [==============================] - 0s 28us/step - loss: 1.1188 - acc: 0.7440\n",
      "Epoch 8/10\n",
      "1203/1203 [==============================] - 0s 27us/step - loss: 1.0306 - acc: 0.7739\n",
      "Epoch 9/10\n",
      "1203/1203 [==============================] - 0s 28us/step - loss: 0.9600 - acc: 0.8121\n",
      "Epoch 10/10\n",
      "1203/1203 [==============================] - 0s 33us/step - loss: 0.8961 - acc: 0.8213\n"
     ]
    },
    {
     "data": {
      "text/plain": [
       "<keras.callbacks.History at 0x242750ca4a8>"
      ]
     },
     "execution_count": 56,
     "metadata": {},
     "output_type": "execute_result"
    }
   ],
   "source": [
    "n_i = X_train.shape[1]\n",
    "n_h = 20\n",
    "n_o = 10\n",
    "\n",
    "model = Sequential()\n",
    "model.add(Dense(n_h, input_dim=n_i))\n",
    "model.add(Activation(\"tanh\"))\n",
    "model.add(Dense(n_o))\n",
    "model.add(Activation(\"softmax\"))\n",
    "\n",
    "model.compile(optimizer=optimizers.SGD(lr=0.01),\n",
    "              loss='categorical_crossentropy', metrics=['accuracy'])\n",
    "\n",
    "model.fit(X_train, Y_train, epochs=10, batch_size=32)"
   ]
  },
  {
   "cell_type": "markdown",
   "metadata": {},
   "source": [
    "We see that the accuracy is higher if we increase the number of hidden units. But it is useless to have too much hidden units if the problem is quite simple."
   ]
  },
  {
   "cell_type": "markdown",
   "metadata": {},
   "source": [
    "<h3> Question 5 </h3>\n",
    "\n",
    "Explain the following sentence: \"Feed-forward neural networks with one hidden layer are known to be universal approximators\". What are the requirements on the activation function for this to be true? How does the width of such a network evolves?"
   ]
  },
  {
   "cell_type": "markdown",
   "metadata": {},
   "source": [
    "According to the universal approximation theorem, we can use a feed-forward network with a single hidden layer to approximate any continuous functions on compact subsets of $\\mathbb{R}^{n}$, where $n \\in \\mathbb{N}$. For this purpose, we need the activation function to be nonconstant, bounded and continuous.\n",
    "\n",
    "It has been shown recently that it actually works with the ReLU function and that the number of hidden units is limited by $n + 4$ if the input has a dimension $n$.\n",
    "\n",
    "https://en.wikipedia.org/wiki/Universal_approximation_theorem"
   ]
  },
  {
   "cell_type": "markdown",
   "metadata": {},
   "source": [
    "<h3> Question 6 </h3>\n",
    "\n",
    "Set $n_{h} = 100$. Play with the learning rate: how does the optimization process behave when the learning rate is too high/too low?"
   ]
  },
  {
   "cell_type": "code",
   "execution_count": 68,
   "metadata": {},
   "outputs": [
    {
     "name": "stdout",
     "output_type": "stream",
     "text": [
      "Epoch 1/10\n",
      "1203/1203 [==============================] - 0s 314us/step - loss: 0.9695 - acc: 0.7124\n",
      "Epoch 2/10\n",
      "1203/1203 [==============================] - 0s 35us/step - loss: 0.2960 - acc: 0.9293\n",
      "Epoch 3/10\n",
      "1203/1203 [==============================] - 0s 32us/step - loss: 0.1648 - acc: 0.9726\n",
      "Epoch 4/10\n",
      "1203/1203 [==============================] - 0s 31us/step - loss: 0.1327 - acc: 0.9726\n",
      "Epoch 5/10\n",
      "1203/1203 [==============================] - 0s 32us/step - loss: 0.0896 - acc: 0.9867\n",
      "Epoch 6/10\n",
      "1203/1203 [==============================] - 0s 32us/step - loss: 0.0711 - acc: 0.9917\n",
      "Epoch 7/10\n",
      "1203/1203 [==============================] - 0s 31us/step - loss: 0.0604 - acc: 0.9909\n",
      "Epoch 8/10\n",
      "1203/1203 [==============================] - 0s 35us/step - loss: 0.0518 - acc: 0.9950\n",
      "Epoch 9/10\n",
      "1203/1203 [==============================] - 0s 30us/step - loss: 0.0421 - acc: 0.9967\n",
      "Epoch 10/10\n",
      "1203/1203 [==============================] - 0s 30us/step - loss: 0.0355 - acc: 0.9975\n"
     ]
    },
    {
     "data": {
      "text/plain": [
       "<keras.callbacks.History at 0x2427af1ff28>"
      ]
     },
     "execution_count": 68,
     "metadata": {},
     "output_type": "execute_result"
    }
   ],
   "source": [
    "n_i = X_train.shape[1]\n",
    "n_h = 100\n",
    "n_o = 10\n",
    "\n",
    "model = Sequential()\n",
    "model.add(Dense(n_h, input_dim=n_i))\n",
    "model.add(Activation(\"tanh\"))\n",
    "model.add(Dense(n_o))\n",
    "model.add(Activation(\"softmax\"))\n",
    "\n",
    "model.compile(optimizer=optimizers.SGD(lr=0.1),\n",
    "              loss='categorical_crossentropy', metrics=['accuracy'])\n",
    "\n",
    "model.fit(X_train, Y_train, epochs=10, batch_size=32)"
   ]
  },
  {
   "cell_type": "markdown",
   "metadata": {},
   "source": [
    "When the learning rate is too high, the precision is really low because the step is too large. However, the training is faster. When the learning rate is too low, the optimization does not give the minimum if the number of steps is not enough. Thus, the convergence is lower."
   ]
  },
  {
   "cell_type": "markdown",
   "metadata": {},
   "source": [
    "<h3> Question 7 </h3>\n",
    "\n",
    "Test different optimization techniques (https://keras.io/optimizers/). What is the main difference between Adam and Adadelta?"
   ]
  },
  {
   "cell_type": "code",
   "execution_count": 73,
   "metadata": {},
   "outputs": [
    {
     "name": "stdout",
     "output_type": "stream",
     "text": [
      "Epoch 1/10\n",
      "1203/1203 [==============================] - 1s 425us/step - loss: 1.7534 - acc: 0.4422\n",
      "Epoch 2/10\n",
      "1203/1203 [==============================] - 0s 34us/step - loss: 0.8067 - acc: 0.8337\n",
      "Epoch 3/10\n",
      "1203/1203 [==============================] - 0s 33us/step - loss: 0.5001 - acc: 0.9185\n",
      "Epoch 4/10\n",
      "1203/1203 [==============================] - 0s 32us/step - loss: 0.3518 - acc: 0.9485\n",
      "Epoch 5/10\n",
      "1203/1203 [==============================] - 0s 33us/step - loss: 0.2700 - acc: 0.9643\n",
      "Epoch 6/10\n",
      "1203/1203 [==============================] - 0s 32us/step - loss: 0.2161 - acc: 0.9692\n",
      "Epoch 7/10\n",
      "1203/1203 [==============================] - 0s 33us/step - loss: 0.1786 - acc: 0.9726\n",
      "Epoch 8/10\n",
      "1203/1203 [==============================] - 0s 36us/step - loss: 0.1523 - acc: 0.9800\n",
      "Epoch 9/10\n",
      "1203/1203 [==============================] - 0s 35us/step - loss: 0.1317 - acc: 0.9825\n",
      "Epoch 10/10\n",
      "1203/1203 [==============================] - 0s 35us/step - loss: 0.1131 - acc: 0.9842\n"
     ]
    },
    {
     "data": {
      "text/plain": [
       "<keras.callbacks.History at 0x2427efd5898>"
      ]
     },
     "execution_count": 73,
     "metadata": {},
     "output_type": "execute_result"
    }
   ],
   "source": [
    "n_i = X_train.shape[1]\n",
    "n_h = 100\n",
    "n_o = 10\n",
    "\n",
    "model = Sequential()\n",
    "model.add(Dense(n_h, input_dim=n_i))\n",
    "model.add(Activation(\"tanh\"))\n",
    "model.add(Dense(n_o))\n",
    "model.add(Activation(\"softmax\"))\n",
    "\n",
    "model.compile(optimizer=optimizers.Adam(lr=0.001),\n",
    "              loss='categorical_crossentropy', metrics=['accuracy'])\n",
    "\n",
    "model.fit(X_train, Y_train, epochs=10, batch_size=32)"
   ]
  },
  {
   "cell_type": "markdown",
   "metadata": {},
   "source": [
    "## 2. Training a neural network with numpy"
   ]
  },
  {
   "cell_type": "markdown",
   "metadata": {},
   "source": [
    "Start by implementing the softmax function, sigmoid and its derivative, as well as negative log-likelihood:"
   ]
  },
  {
   "cell_type": "code",
   "execution_count": 4,
   "metadata": {},
   "outputs": [],
   "source": [
    "def softmax(X):\n",
    "    # TODO:\n",
    "    return None\n",
    "\n",
    "def sigmoid(X):\n",
    "    # TODO\n",
    "    return None\n",
    "\n",
    "def dsigmoid(X):\n",
    "    # TODO\n",
    "    return None\n",
    "\n",
    "def nll(Y_true, Y_pred):\n",
    "    # TODO\n",
    "    return None"
   ]
  },
  {
   "cell_type": "markdown",
   "metadata": {},
   "source": [
    "You can complete the following python class to get your numpy network. This class is designed to be \"scikit like\", meaning that once it has been correctly completed, you can just execute \n",
    "\n",
    "-model = NeuralNet(n_features, n_hidden, n_classes); model.fit(X_train,Y_train,lr=0.1, n_epochs=20)\n",
    "\n",
    "to get it to work. Hints about how to fill the methods can be found in the pdf subject."
   ]
  },
  {
   "cell_type": "code",
   "execution_count": null,
   "metadata": {},
   "outputs": [],
   "source": [
    "class NeuralNet():\n",
    "    \"\"\"MLP with 1 hidden layer and a sigmoid activation\"\"\"\n",
    "    \n",
    "    def __init__(self, input_size, hidden_size, output_size):\n",
    "        # TODO\n",
    "        self.W_h = None\n",
    "        self.b_h = None\n",
    "        self.W_o = None\n",
    "        self.b_o = None\n",
    "        self.output_size = output_size\n",
    "        \n",
    "    def forward(self, X):\n",
    "        # TODO\n",
    "        return y\n",
    "    \n",
    "    def forward_with_hidden(self, X):\n",
    "        # TODO\n",
    "        return y, h, z_h\n",
    "    \n",
    "    def loss(self, X, y):\n",
    "        # TODO\n",
    "        return L\n",
    "\n",
    "    def grad_loss(self, x, y_true):\n",
    "        # TODO\n",
    "        return grads\n",
    "\n",
    "    def train_sample(self, x, y, lr):\n",
    "        # TODO\n",
    "\n",
    "    def fit(self, X_train, Y_train , lr, n_epochs):\n",
    "        # TODO\n",
    "        return losses\n",
    "    \n",
    "    def predict(self, X):\n",
    "        # TODO\n",
    "        return \n",
    "\n",
    "    def accuracy(self, X, y):\n",
    "        y_preds = np.argmax(self.forward(X), axis=1)\n",
    "        return np.mean(y_preds == y)"
   ]
  }
 ],
 "metadata": {
  "kernelspec": {
   "display_name": "Python 3",
   "language": "python",
   "name": "python3"
  },
  "language_info": {
   "codemirror_mode": {
    "name": "ipython",
    "version": 3
   },
   "file_extension": ".py",
   "mimetype": "text/x-python",
   "name": "python",
   "nbconvert_exporter": "python",
   "pygments_lexer": "ipython3",
   "version": "3.7.0"
  }
 },
 "nbformat": 4,
 "nbformat_minor": 2
}
